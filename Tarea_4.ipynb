{
  "nbformat": 4,
  "nbformat_minor": 0,
  "metadata": {
    "colab": {
      "name": "Tarea 4",
      "provenance": [],
      "collapsed_sections": [],
      "authorship_tag": "ABX9TyP+o5vGtGPPFjvKo+JC3MUD",
      "include_colab_link": true
    },
    "kernelspec": {
      "name": "python3",
      "display_name": "Python 3"
    }
  },
  "cells": [
    {
      "cell_type": "markdown",
      "metadata": {
        "id": "view-in-github",
        "colab_type": "text"
      },
      "source": [
        "<a href=\"https://colab.research.google.com/github/MouldSkate/cyp_2021/blob/main/Tarea_4.ipynb\" target=\"_parent\"><img src=\"https://colab.research.google.com/assets/colab-badge.svg\" alt=\"Open In Colab\"/></a>"
      ]
    },
    {
      "cell_type": "code",
      "metadata": {
        "id": "apTRLbG5UtoG",
        "colab": {
          "base_uri": "https://localhost:8080/"
        },
        "outputId": "2e6c8e79-fd0a-49d8-a41b-938bcaca34f6"
      },
      "source": [
        "# Ejercicio 2.4\n",
        "SUE = 0\n",
        "NSUE = 0\n",
        "\n",
        "SUE = float(input(\"¿Cuál es tu sueldo actual?: \"))\n",
        "if (SUE < 1000):\n",
        "  NSUE = SUE * 1.15\n",
        "  print(f\"Su nuevo sueldo es de: {NSUE}\")\n",
        "else:\n",
        "  NSUE = SUE * 1.12\n",
        "  print(f\"Su nuevo sueldo es de: {NSUE}\")"
      ],
      "execution_count": 7,
      "outputs": [
        {
          "output_type": "stream",
          "text": [
            "¿Cuál es tu sueldo actual?: 1000\n",
            "Su nuevo sueldo es de: 1120.0\n"
          ],
          "name": "stdout"
        }
      ]
    },
    {
      "cell_type": "code",
      "metadata": {
        "colab": {
          "base_uri": "https://localhost:8080/"
        },
        "id": "Ki9kHdvcfOtw",
        "outputId": "b9f09c34-505e-4196-a560-c56b2796549e"
      },
      "source": [
        "\n",
        "# Ejercicio 2.8\n",
        "CATE = 0\n",
        "SUE = 0\n",
        "NSUE = 0\n",
        "\n",
        "CATE = int(input(\"¿Cuál es tu categoria?: \"))\n",
        "SUE = float(input(\"¿Cuál es tu sueldo actual?: \"))\n",
        "\n",
        "if (CATE == 1):\n",
        "  NSUE = SUE * 1.15\n",
        "  print(f\"Su nuevo sueldo es: {NSUE}\")\n",
        "elif (CATE == 2):\n",
        "  NSUE = SUE * 1.10\n",
        "  print(f\"Su nuevo sueldo es: {NSUE}\")\n",
        "elif (CATE == 3):\n",
        "  NSUE = SUE * 1.08\n",
        "  print(f\"Su nuevo sueldo es: {NSUE}\")\n",
        "else: \n",
        "  (CATE == 4)\n",
        "  NSUE = SUE * 1.07\n",
        "  print(f\"Su nuevo sueldo es: {NSUE}\")"
      ],
      "execution_count": 15,
      "outputs": [
        {
          "output_type": "stream",
          "text": [
            "¿Cuál es tu categoria?: 3\n",
            "¿Cuál es tu sueldo actual?: 4100\n",
            "Su nuevo sueldo es: 4428.0\n"
          ],
          "name": "stdout"
        }
      ]
    }
  ]
}