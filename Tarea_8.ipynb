{
  "nbformat": 4,
  "nbformat_minor": 0,
  "metadata": {
    "colab": {
      "name": "Tarea 8",
      "provenance": [],
      "collapsed_sections": [],
      "authorship_tag": "ABX9TyO5VZOh/P1ffIWIcYlCrLMh",
      "include_colab_link": true
    },
    "kernelspec": {
      "name": "python3",
      "display_name": "Python 3"
    }
  },
  "cells": [
    {
      "cell_type": "markdown",
      "metadata": {
        "id": "view-in-github",
        "colab_type": "text"
      },
      "source": [
        "<a href=\"https://colab.research.google.com/github/MouldSkate/cyp_2021/blob/main/Tarea_8.ipynb\" target=\"_parent\"><img src=\"https://colab.research.google.com/assets/colab-badge.svg\" alt=\"Open In Colab\"/></a>"
      ]
    },
    {
      "cell_type": "code",
      "metadata": {
        "colab": {
          "base_uri": "https://localhost:8080/"
        },
        "id": "W-zovWInI8cr",
        "outputId": "bbdbec07-27fe-442a-ebce-ea08974d339d"
      },
      "source": [
        "print(\"\\u2014\"*75)\r\n",
        "print(\"\\u007C\",\"   \\u266B \\u266B \\u266B \\u266B \\u266B \\u266B \\u266B \\u266B    \\u266B \\u266B     \\u266B \\u266B       \\u266B \\u266B \\u266B       \\u266B \\u266B \\u266B \\u266B     \\u266B \\u266B     \\u007C\")\r\n",
        "print(\"\\u007C\",\"   \\u266B \\u266B \\u266B \\u266B \\u266B \\u266B \\u266B \\u266B    \\u266B \\u266B     \\u266B \\u266B     \\u266B \\u266B \\u266B \\u266B \\u266B     \\u266B \\u266B \\u266B \\u266B     \\u266B \\u266B     \\u007C\")\r\n",
        "print(\"\\u007C\",\"         \\u266B \\u266B          \\u266B \\u266B     \\u266B \\u266B    \\u266B \\u266B     \\u266B \\u266B    \\u266B \\u266B  \\u266B \\u266B    \\u266B \\u266B     \\u007C\")\r\n",
        "print(\"\\u007C\",\"         \\u266B \\u266B          \\u266B \\u266B     \\u266B \\u266B    \\u266B \\u266B     \\u266B \\u266B    \\u266B \\u266B  \\u266B \\u266B    \\u266B \\u266B     \\u007C\")\r\n",
        "print(\"\\u007C\",\"         \\u266B \\u266B          \\u266B \\u266B     \\u266B \\u266B    \\u266B \\u266B \\u266B \\u266B \\u266B \\u266B    \\u266B \\u266B   \\u266B \\u266B   \\u266B \\u266B     \\u007C\")\r\n",
        "print(\"\\u007C\",\"         \\u266B \\u266B          \\u266B \\u266B     \\u266B \\u266B    \\u266B \\u266B \\u266B \\u266B \\u266B \\u266B    \\u266B \\u266B   \\u266B \\u266B   \\u266B \\u266B     \\u007C\")\r\n",
        "print(\"\\u007C\",\"         \\u266B \\u266B          \\u266B \\u266B     \\u266B \\u266B    \\u266B \\u266B     \\u266B \\u266B    \\u266B \\u266B    \\u266B \\u266B  \\u266B \\u266B     \\u007C\")\r\n",
        "print(\"\\u007C\",\"         \\u266B \\u266B          \\u266B \\u266B     \\u266B \\u266B    \\u266B \\u266B     \\u266B \\u266B    \\u266B \\u266B    \\u266B \\u266B  \\u266B \\u266B     \\u007C\")\r\n",
        "print(\"\\u007C\",\"   \\u266B \\u266B \\u266B \\u266B \\u266B          \\u266B \\u266B \\u266B \\u266B \\u266B \\u266B    \\u266B \\u266B     \\u266B \\u266B    \\u266B \\u266B     \\u266B \\u266B \\u266B \\u266B     \\u007C\")\r\n",
        "print(\"\\u007C\",\"   \\u266B \\u266B \\u266B \\u266B \\u266B          \\u266B \\u266B \\u266B \\u266B \\u266B \\u266B    \\u266B \\u266B     \\u266B \\u266B    \\u266B \\u266B     \\u266B \\u266B \\u266B \\u266B     \\u007C\")\r\n",
        "print(\"\\u2014\"*75)"
      ],
      "execution_count": 215,
      "outputs": [
        {
          "output_type": "stream",
          "text": [
            "———————————————————————————————————————————————————————————————————————————\n",
            "|    ♫ ♫ ♫ ♫ ♫ ♫ ♫ ♫    ♫ ♫     ♫ ♫       ♫ ♫ ♫       ♫ ♫ ♫ ♫     ♫ ♫     |\n",
            "|    ♫ ♫ ♫ ♫ ♫ ♫ ♫ ♫    ♫ ♫     ♫ ♫     ♫ ♫ ♫ ♫ ♫     ♫ ♫ ♫ ♫     ♫ ♫     |\n",
            "|          ♫ ♫          ♫ ♫     ♫ ♫    ♫ ♫     ♫ ♫    ♫ ♫  ♫ ♫    ♫ ♫     |\n",
            "|          ♫ ♫          ♫ ♫     ♫ ♫    ♫ ♫     ♫ ♫    ♫ ♫  ♫ ♫    ♫ ♫     |\n",
            "|          ♫ ♫          ♫ ♫     ♫ ♫    ♫ ♫ ♫ ♫ ♫ ♫    ♫ ♫   ♫ ♫   ♫ ♫     |\n",
            "|          ♫ ♫          ♫ ♫     ♫ ♫    ♫ ♫ ♫ ♫ ♫ ♫    ♫ ♫   ♫ ♫   ♫ ♫     |\n",
            "|          ♫ ♫          ♫ ♫     ♫ ♫    ♫ ♫     ♫ ♫    ♫ ♫    ♫ ♫  ♫ ♫     |\n",
            "|          ♫ ♫          ♫ ♫     ♫ ♫    ♫ ♫     ♫ ♫    ♫ ♫    ♫ ♫  ♫ ♫     |\n",
            "|    ♫ ♫ ♫ ♫ ♫          ♫ ♫ ♫ ♫ ♫ ♫    ♫ ♫     ♫ ♫    ♫ ♫     ♫ ♫ ♫ ♫     |\n",
            "|    ♫ ♫ ♫ ♫ ♫          ♫ ♫ ♫ ♫ ♫ ♫    ♫ ♫     ♫ ♫    ♫ ♫     ♫ ♫ ♫ ♫     |\n",
            "———————————————————————————————————————————————————————————————————————————\n"
          ],
          "name": "stdout"
        }
      ]
    }
  ]
}