{
  "nbformat": 4,
  "nbformat_minor": 0,
  "metadata": {
    "colab": {
      "name": "17/11/2020",
      "provenance": [],
      "authorship_tag": "ABX9TyP2+upkSazeraL50dYIn6Hy",
      "include_colab_link": true
    },
    "kernelspec": {
      "name": "python3",
      "display_name": "Python 3"
    }
  },
  "cells": [
    {
      "cell_type": "markdown",
      "metadata": {
        "id": "view-in-github",
        "colab_type": "text"
      },
      "source": [
        "<a href=\"https://colab.research.google.com/github/MouldSkate/cyp_2021/blob/main/17_11_2020.ipynb\" target=\"_parent\"><img src=\"https://colab.research.google.com/assets/colab-badge.svg\" alt=\"Open In Colab\"/></a>"
      ]
    },
    {
      "cell_type": "code",
      "metadata": {
        "colab": {
          "base_uri": "https://localhost:8080/"
        },
        "id": "6VD3UhLzSlyT",
        "outputId": "a61ccd13-ae7a-41e5-cf51-7f0675275ea9"
      },
      "source": [
        "edad = 15\n",
        "estatura = 1.67\n",
        "a = 10\n",
        "b = 3\n",
        "\n",
        "c = 2 ** b + 2 + 3 +4\n",
        "\n",
        "print(c)\n",
        "\n",
        "e = estatura * 2.0\n",
        "print(e)\n",
        "\n",
        "f = a/b # en payton se have el calculo exácto\n",
        "print(f) #3.333333\n",
        "\n",
        "# tambien podemos forzar al calculo de enteros\n",
        "g = a // b\n",
        "print(\"g=\",g)\n",
        "\n",
        "h = a % b\n",
        "print(\"h = \", h)\n",
        "\n",
        "num = 11\n",
        "print(\"Es par num ?\", (num % 2) == 0)"
      ],
      "execution_count": null,
      "outputs": [
        {
          "output_type": "stream",
          "text": [
            "17\n",
            "3.34\n",
            "3.3333333333333335\n",
            "g= 3\n",
            "h =  1\n",
            "Es par num ? False\n"
          ],
          "name": "stdout"
        }
      ]
    },
    {
      "cell_type": "code",
      "metadata": {
        "colab": {
          "base_uri": "https://localhost:8080/"
        },
        "id": "aR-o4XmXW4LZ",
        "outputId": "e15ff89f-10ef-41a3-c05b-4fc42c72677e"
      },
      "source": [
        "ecuacion = 9 + 7 * 8 - 36 / 5 #9 + 56 - 7.2 -> 65 - 7.2 = 57.8\n",
        "print(ecuacion)\n",
        "\n",
        "ecuacion = (9 + 7) * 8 - 36 / 5 # 128 - 7.2\n",
        "print(ecuacion)\n",
        "\n",
        "ecuacion = 9 + 7 * (8 - 36) / 5\n",
        "print(ecuacion)"
      ],
      "execution_count": null,
      "outputs": [
        {
          "output_type": "stream",
          "text": [
            "57.8\n",
            "120.8\n",
            "-30.200000000000003\n"
          ],
          "name": "stdout"
        }
      ]
    },
    {
      "cell_type": "code",
      "metadata": {
        "colab": {
          "base_uri": "https://localhost:8080/"
        },
        "id": "HkeFm0rmcCWO",
        "outputId": "0f5f9543-a691-4f20-f055-fe0c45d1c484"
      },
      "source": [
        "# operadores logicos --> true y false\n",
        "\n",
        "x = 5\n",
        "y = 4\n",
        "\n",
        "valor = (x == y) # Son iguales ?? --> Falso\n",
        "print(valor)\n",
        "\n",
        "valor = (x != y) # Son diferentes ?? --> Verdadero\n",
        "print(valor)\n",
        "\n",
        "valor = (x < y) # x es menos que y ?? FALSE\n",
        "print(valor)\n",
        "\n",
        "valor = (x > y) # x es mayor que y ?? True\n",
        "print(valor)\n",
        "\n",
        "y = 5\n",
        "valor = (x <= y) # x es menor o igual que y ?? True\n",
        "print(valor)\n",
        "\n",
        "valor = (x >= y) # x es mayor o igual que y ?? True\n",
        "print(valor)\n",
        "\n",
        "valor  = (5 == 4) # true\n",
        "print(valor)"
      ],
      "execution_count": null,
      "outputs": [
        {
          "output_type": "stream",
          "text": [
            "False\n",
            "True\n",
            "False\n",
            "True\n",
            "True\n",
            "True\n",
            "False\n"
          ],
          "name": "stdout"
        }
      ]
    },
    {
      "cell_type": "code",
      "metadata": {
        "colab": {
          "base_uri": "https://localhost:8080/"
        },
        "id": "JEsbYWFHfiEZ",
        "outputId": "67a779dc-3904-418d-f1e5-dd30f130a13a"
      },
      "source": [
        "costo_chetos = 7.0\n",
        "tienda_abierta = True\n",
        "capital_en_bolsa = 10.0\n",
        "\n",
        "se_compra = ( costo_chetos < capital_en_bolsa) and (tienda_abierta == True)\n",
        "print(se_compra)\n"
      ],
      "execution_count": null,
      "outputs": [
        {
          "output_type": "stream",
          "text": [
            "True\n"
          ],
          "name": "stdout"
        }
      ]
    }
  ]
}