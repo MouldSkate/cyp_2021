{
  "nbformat": 4,
  "nbformat_minor": 0,
  "metadata": {
    "colab": {
      "name": "14/01/2021",
      "provenance": [],
      "collapsed_sections": [],
      "authorship_tag": "ABX9TyOveuuI2blGqBXjzhvmupbo",
      "include_colab_link": true
    },
    "kernelspec": {
      "name": "python3",
      "display_name": "Python 3"
    }
  },
  "cells": [
    {
      "cell_type": "markdown",
      "metadata": {
        "id": "view-in-github",
        "colab_type": "text"
      },
      "source": [
        "<a href=\"https://colab.research.google.com/github/MouldSkate/cyp_2021/blob/main/14_01_2021.ipynb\" target=\"_parent\"><img src=\"https://colab.research.google.com/assets/colab-badge.svg\" alt=\"Open In Colab\"/></a>"
      ]
    },
    {
      "cell_type": "markdown",
      "metadata": {
        "id": "gx6kybZ56kT3"
      },
      "source": [
        "Palabras reservadas de Python 3\r\n",
        "\r\n",
        "* False\r\n",
        "* None\r\n",
        "* True\r\n",
        "*and\r\n",
        "*as\r\n",
        "*assert\r\n",
        "*break\r\n",
        "*class\r\n",
        "*continue\r\n",
        "*def\r\n",
        "*del\r\n",
        "*elif\r\n",
        "*else\r\n",
        "*except\r\n",
        "*finally\r\n",
        "*for\r\n",
        "*from\r\n",
        "*global\r\n",
        "*if\r\n",
        "*import\r\n",
        "*in\r\n",
        "*is\r\n",
        "*lambda\r\n",
        "*nonlocal\r\n",
        "*not\r\n",
        "*or\r\n",
        "*pass\r\n",
        "*raise\r\n",
        "*return\r\n",
        "*try\r\n",
        "*while\r\n",
        "*with\r\n",
        "*yield\r\n",
        "\r\n",
        "\r\n",
        "\r\n",
        "\r\n"
      ]
    },
    {
      "cell_type": "code",
      "metadata": {
        "colab": {
          "base_uri": "https://localhost:8080/"
        },
        "id": "5np6LSMw6otq",
        "outputId": "0fe104b2-128a-434b-ac8b-d7bc9df5af98"
      },
      "source": [
        "import keyword\r\n",
        "pr = keyword.kwlist\r\n",
        "print(len(pr))\r\n",
        "for palabra in pr:\r\n",
        "  print(palabra, end=\",\")"
      ],
      "execution_count": 2,
      "outputs": [
        {
          "output_type": "stream",
          "text": [
            "33\n",
            "False,None,True,and,as,assert,break,class,continue,def,del,elif,else,except,finally,for,from,global,if,import,in,is,lambda,nonlocal,not,or,pass,raise,return,try,while,with,yield,"
          ],
          "name": "stdout"
        }
      ]
    },
    {
      "cell_type": "markdown",
      "metadata": {
        "id": "Ue0Nzwv861ph"
      },
      "source": [
        "# Variable \r\n",
        "Es un espacio de memoria de la computadora para almacenar valores que combinen a lo largo de la ejecución del programa. Este espacio de memoria esta referenciado por un identificador, al cual tienen ciertas reglas de nombrado.\r\n",
        "- No puede iniciar con número.\r\n",
        "- No debe ser igual a alguna de las palabras reservadas.\r\n",
        "- No puede inciar con _\r\n",
        "- Evitar nombres de variables largos\r\n",
        "- Evitar muy cortos, ejemplo: x, y, i\r\n",
        "- Usar notación snake_case "
      ]
    },
    {
      "cell_type": "code",
      "metadata": {
        "id": "faKOv_oT8FBg"
      },
      "source": [
        "_2edad = 12\r\n",
        "print(_2edad)\r\n",
        "'''\r\n",
        "No se puede usar una palabra reservada como identificador de variable\r\n",
        "\r\n",
        "for = 12\r\n",
        "print(for)\r\n",
        "\r\n",
        "'''\r\n",
        "_2edad\r\n",
        "dias_de_la_semana = 7\r\n",
        "print(dias_de_la_semana)\r\n",
        "\r\n",
        "diasdelasemana = 7\r\n",
        "print(diasdelasemana)\r\n",
        "\r\n",
        "# Lower camel case\r\n",
        "diasDeLaSemana =\r\n",
        "\r\n"
      ],
      "execution_count": null,
      "outputs": []
    },
    {
      "cell_type": "code",
      "metadata": {
        "id": "GWoWuth69M2P"
      },
      "source": [
        "\"\"\"\r\n",
        "La notacion snake case consta de formar el identificador de variable \r\n",
        "separando las palabras del mismo con un guión bajo.\r\n",
        "\r\n",
        "Se recomienda que los identificadores se escriban en minusculas para las variables\r\n",
        "y mayusculas para las constantes\r\n",
        "Es decir si tenemos una variable para los dias de la semana, se escribiria asi:\r\n",
        "\r\n",
        "dias_de_la_semana = 7\r\n",
        "dias_mes = 31\r\n",
        "limite_maximo = 100"
      ],
      "execution_count": null,
      "outputs": []
    },
    {
      "cell_type": "markdown",
      "metadata": {
        "id": "OmS2VQIU9-R_"
      },
      "source": [
        "# Tipos de Datos\r\n",
        "- Numericos \r\n",
        "  - int  4 bytes (1, 2, 3, 3495, etc.)\r\n",
        "  - float 4 bytes (1.14, 3.1416, 1.0)\r\n",
        "  - long 8 bytes (1, 2, 234332, etc)\r\n",
        "  - complex 3 + 2j (Raices negativas)\r\n",
        "- Boolean: True o False\r\n",
        "- String cadenas de caracteres (\"cad\" , 'cad' o \"\"\"cad\"\"\")\r\n",
        "- listas ([1,2,3,4] , [a,b,1,2,3])\r\n",
        "- tuplas ( (edad,23) , (3,4) )\r\n",
        "- conjuntos\r\n",
        "- diccionarios ( {\"nombre\":\"juan\"} ) "
      ]
    },
    {
      "cell_type": "markdown",
      "metadata": {
        "id": "JVI3ZNz3EGNs"
      },
      "source": [
        " # tipo de dato String\r\n",
        "\r\n",
        "Este tipo de dato permite almacenar cadenas de caracteres, como por ejemplo:\r\n",
        " \r\n",
        "~~~\r\n",
        "nombre = 'Jesus'\r\n",
        "lugar_naciminto = \"Mexico D.F., Tacuba\"\r\n",
        "frase_favorita =\"\"\"\r\n",
        "El conocimiento\r\n",
        "me persigue,\r\n",
        "pero...\r\n",
        "yo soy el más rápido!!!\r\n",
        ":)\r\n",
        "\"\"\"\r\n",
        "~~~\r\n"
      ]
    },
    {
      "cell_type": "markdown",
      "metadata": {
        "id": "AOmV07di9-OS"
      },
      "source": [
        ""
      ]
    },
    {
      "cell_type": "code",
      "metadata": {
        "colab": {
          "base_uri": "https://localhost:8080/"
        },
        "id": "3SJvIlb1FdLU",
        "outputId": "d3889f64-4533-483f-9107-974b51c5bba6"
      },
      "source": [
        "nombre = 'Jesus'\r\n",
        "lugar_naciminto = \"Mexico D.F., Tacuba\"\r\n",
        "frase_favorita =\"\"\"\r\n",
        "El conocimiento\r\n",
        "me persigue,\r\n",
        "pero...\r\n",
        "yo soy el más rápido!!!\r\n",
        ":)\r\n",
        "\"\"\"\r\n",
        "\r\n",
        "print(lugar_naciminto)\r\n",
        "\r\n",
        "print(frase_favorita)"
      ],
      "execution_count": 3,
      "outputs": [
        {
          "output_type": "stream",
          "text": [
            "Mexico D.F., Tacuba\n",
            "\n",
            "El conocimiento\n",
            "me persigue,\n",
            "pero...\n",
            "yo soy el más rápido!!!\n",
            ":)\n",
            "\n"
          ],
          "name": "stdout"
        }
      ]
    },
    {
      "cell_type": "markdown",
      "metadata": {
        "id": "Cf_e-W_ZFvTg"
      },
      "source": [
        " # String como arreglo \r\n",
        " Un string en python es almacenado como el tipo de dato (estructura de datos) arreglo.\r\n",
        "\r\n",
        " Por ejemplo la declaración:\r\n",
        " '''\r\n",
        " nombre = 'Jesus'\r\n",
        " '''\r\n",
        "El elemento 'J' es almacenado en un arreglo en la posicion 0. La 'e' en la 1 y asi sucesivamente.\r\n",
        "\r\n",
        "### Selector\r\n",
        "La notación para seleccionar un elemento del arreglo es:\r\n",
        "~~~\r\n",
        "[ 1 ]\r\n",
        "~~~\r\n",
        "Donde esta el valor numerico entero."
      ]
    },
    {
      "cell_type": "code",
      "metadata": {
        "colab": {
          "base_uri": "https://localhost:8080/"
        },
        "id": "522d0_bhGUwK",
        "outputId": "92e140d5-3ed9-4862-b7ca-96454ae1c8c9"
      },
      "source": [
        "nombre = 'Jesus'\r\n",
        "print(nombre)\r\n",
        "print(nombre[0])\r\n",
        "print(nombre[3])"
      ],
      "execution_count": 4,
      "outputs": [
        {
          "output_type": "stream",
          "text": [
            "Jesus\n",
            "J\n",
            "u\n"
          ],
          "name": "stdout"
        }
      ]
    },
    {
      "cell_type": "markdown",
      "metadata": {
        "id": "_Wo2WL-kHiTb"
      },
      "source": [
        "# Iterar sobre un String\r\n",
        "\r\n",
        "Se puede iterar sobre String con for de la forma:\r\n",
        "\r\n",
        "~~~\r\n",
        "for letra in range( len(nombre) ):\r\n",
        "  print( letra )\r\n",
        "~~~"
      ]
    },
    {
      "cell_type": "code",
      "metadata": {
        "colab": {
          "base_uri": "https://localhost:8080/"
        },
        "id": "f3Bj30zQIfls",
        "outputId": "ed6fb1b8-6e3d-40c2-a366-abeaa1ad9b88"
      },
      "source": [
        "for indice in range( len(nombre) ): # 0, 1 , 3 , 4\r\n",
        "  print( indice , end = \" \")\r\n",
        "  print( nombre[indice] )"
      ],
      "execution_count": 5,
      "outputs": [
        {
          "output_type": "stream",
          "text": [
            "0 J\n",
            "1 e\n",
            "2 s\n",
            "3 u\n",
            "4 s\n"
          ],
          "name": "stdout"
        }
      ]
    },
    {
      "cell_type": "markdown",
      "metadata": {
        "id": "2mlGgu5nJ-ta"
      },
      "source": [
        "# Función range(indice, stop, incremento)\r\n",
        "\r\n",
        "El indice es opcional y por defecto tiene el valor 0\r\n",
        "El incremento tambien es opcional y pr defecto es 1"
      ]
    },
    {
      "cell_type": "code",
      "metadata": {
        "colab": {
          "base_uri": "https://localhost:8080/"
        },
        "id": "uPVwHIiSJ1Qq",
        "outputId": "5e189349-da6b-4eb5-c548-54fa53a11324"
      },
      "source": [
        "for indice in range(0, len(nombre), 1):\r\n",
        "  print(nombre[indice])"
      ],
      "execution_count": 6,
      "outputs": [
        {
          "output_type": "stream",
          "text": [
            "J\n",
            "e\n",
            "s\n",
            "u\n",
            "s\n"
          ],
          "name": "stdout"
        }
      ]
    },
    {
      "cell_type": "code",
      "metadata": {
        "colab": {
          "base_uri": "https://localhost:8080/"
        },
        "id": "eDCRaKKhK4bz",
        "outputId": "b299608a-64a2-464d-dfcd-57a223ab68d2"
      },
      "source": [
        "for indice in range(4, -1 , -1): # 4 , 3 , 2 , 1 , 0\r\n",
        "  print(nombre[indice])"
      ],
      "execution_count": 12,
      "outputs": [
        {
          "output_type": "stream",
          "text": [
            "s\n",
            "u\n",
            "s\n",
            "e\n",
            "J\n"
          ],
          "name": "stdout"
        }
      ]
    },
    {
      "cell_type": "markdown",
      "metadata": {
        "id": "ONW8C0ABL2YT"
      },
      "source": [
        "# String e indexado negativo\r\n",
        "En python 3 se agrega una nueva caracteristica a los arreglos de las cadenas de caracteres, esta consta de la capacidad de indexar de forma negativa.\r\n",
        "\r\n",
        "La logica es la siguiente.\r\n",
        "\r\n",
        "El último elemento se le considera como indice (ALTERNATIVO) -1, con lo cual se podria referenciar el final de la cadena sin la necesidad de saber el tamaño de la misma.\r\n",
        "\r\n",
        "~~~\r\n",
        "nombre = 'Antonio'\r\n",
        "\r\n",
        "indice normal  0  1  2  3  4  5  6 \r\n",
        "\r\n",
        "               a  n  t  o  n  i  o\r\n",
        "\r\n",
        "Índice alter. -7 -6 -5 -4 -3 -2 -1\r\n",
        "~~~"
      ]
    },
    {
      "cell_type": "code",
      "metadata": {
        "colab": {
          "base_uri": "https://localhost:8080/"
        },
        "id": "YMh0MUKOMmpd",
        "outputId": "d289f4b6-3cff-4576-fbbb-55281e400e4f"
      },
      "source": [
        "nombre = \"Antonio\"\r\n",
        "print(nombre[3])\r\n",
        "print(nombre[-1])\r\n",
        "print(\"\")\r\n",
        "for indice_alter in range(-1, -8, -1):\r\n",
        "  print(nombre[indice_alter])"
      ],
      "execution_count": 16,
      "outputs": [
        {
          "output_type": "stream",
          "text": [
            "o\n",
            "o\n",
            "\n",
            "o\n",
            "i\n",
            "n\n",
            "o\n",
            "t\n",
            "n\n",
            "A\n"
          ],
          "name": "stdout"
        }
      ]
    },
    {
      "cell_type": "markdown",
      "metadata": {
        "id": "8nkdTrkTQXBZ"
      },
      "source": [
        "# Slicing de cadenas decaracteres.\r\n",
        "\r\n",
        "Esta caractertistica permite sacar secciones de la cadena con la siguiente sintaxis:\r\n",
        "~~~\r\n",
        "[ inicio : stop : incremento ]\r\n",
        "~~~\r\n",
        "donde inicio e incremento son opcionales y también soportan indexado alternativo (negativo)"
      ]
    },
    {
      "cell_type": "code",
      "metadata": {
        "colab": {
          "base_uri": "https://localhost:8080/"
        },
        "id": "L0-UPYQkQjas",
        "outputId": "cca5b5e9-2384-4117-825f-bcdd8d579ed8"
      },
      "source": [
        "facultad = \"Falcutad de Estudios Superiores Aragón (La mejor)\"\r\n",
        "\r\n",
        "print(facultad)\r\n",
        "for indice in range( 12, 20, 1):\r\n",
        "  print(facultad[indice] , end =\"\")\r\n",
        "\r\n",
        "# Hacer esto mismo con la caracteristica Slicing se logra asi:\r\n",
        "print(\"\\nCon Slicing\")\r\n",
        "print(facultad[12:20:2])\r\n",
        "\r\n",
        "# La palabra 'de' con slicing\r\n",
        "print(facultad[9:11:1])\r\n",
        "\r\n",
        "# La frase '(La mejor)' con indexado alternativo con slicing\r\n"
      ],
      "execution_count": 21,
      "outputs": [
        {
          "output_type": "stream",
          "text": [
            "Falcutad de Estudios Superiores Aragón (La mejor)\n",
            "Estudios\n",
            "Con Slicing\n",
            "Etdo\n",
            "de\n"
          ],
          "name": "stdout"
        }
      ]
    }
  ]
}