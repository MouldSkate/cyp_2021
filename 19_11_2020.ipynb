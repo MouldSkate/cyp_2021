{
  "nbformat": 4,
  "nbformat_minor": 0,
  "metadata": {
    "colab": {
      "name": "19/11/2020",
      "provenance": [],
      "authorship_tag": "ABX9TyNX/0SYgSJwJLBirPbuo7NY",
      "include_colab_link": true
    },
    "kernelspec": {
      "name": "python3",
      "display_name": "Python 3"
    }
  },
  "cells": [
    {
      "cell_type": "markdown",
      "metadata": {
        "id": "view-in-github",
        "colab_type": "text"
      },
      "source": [
        "<a href=\"https://colab.research.google.com/github/MouldSkate/cyp_2021/blob/main/19_11_2020.ipynb\" target=\"_parent\"><img src=\"https://colab.research.google.com/assets/colab-badge.svg\" alt=\"Open In Colab\"/></a>"
      ]
    },
    {
      "cell_type": "code",
      "metadata": {
        "colab": {
          "base_uri": "https://localhost:8080/"
        },
        "id": "1oB82HlKh0LF",
        "outputId": "be99846a-5414-4ead-d618-0812337ee0cc"
      },
      "source": [
        "I = 0\n",
        "I = I + 1\n",
        "I = I + 1 \n",
        "print(f\"I = { I } \")\n",
        "J = 5 ** 2 / 3\n",
        "print(f\"J = { J }\")"
      ],
      "execution_count": 3,
      "outputs": [
        {
          "output_type": "stream",
          "text": [
            "I = 2 \n",
            "J = 8.333333333333334\n"
          ],
          "name": "stdout"
        }
      ]
    },
    {
      "cell_type": "code",
      "metadata": {
        "colab": {
          "base_uri": "https://localhost:8080/"
        },
        "id": "GR5ld4NInClO",
        "outputId": "2abfc3a6-33ee-484f-a4fa-b5422742eccc"
      },
      "source": [
        "# Declaración de variables (reservando memoria)\n",
        "A = 0\n",
        "B = 0\n",
        "C = 0\n",
        "D = 0\n",
        "\n",
        "A = int(input(\"Dame un valor entero:\"))\n",
        "B = int(input(\"Dame un valor entero:\"))\n",
        "C = int(input(\"Dame un valor entero:\"))\n",
        "D = int(input(\"Dame un valor entero:\"))\n",
        "\n",
        "print(D)\n",
        "print(C)\n",
        "print(B)\n",
        "print(A)\n"
      ],
      "execution_count": 5,
      "outputs": [
        {
          "output_type": "stream",
          "text": [
            "Dame un valor entero:2\n",
            "Dame un valor entero:5\n",
            "Dame un valor entero:7\n",
            "Dame un valor entero:9\n",
            "9\n",
            "7\n",
            "5\n",
            "2\n"
          ],
          "name": "stdout"
        }
      ]
    },
    {
      "cell_type": "code",
      "metadata": {
        "colab": {
          "base_uri": "https://localhost:8080/"
        },
        "id": "qssKs7nKpWZH",
        "outputId": "34261941-4b33-4b71-a499-661284fad79c"
      },
      "source": [
        "# Ejemplo 1.7\n",
        "A = 0\n",
        "B = 0 \n",
        "RES = 0\n",
        "\n",
        "A = int(input(\"Dame un entero: \"))\n",
        "B = int(input(\"Dame otro entero: \"))\n",
        "RES = (A + B) ** 2 / 3\n",
        "print(RES)\n",
        "\n"
      ],
      "execution_count": 11,
      "outputs": [
        {
          "output_type": "stream",
          "text": [
            "Dame un entero: 14\n",
            "Dame otro entero: -5\n",
            "27.0\n"
          ],
          "name": "stdout"
        }
      ]
    },
    {
      "cell_type": "code",
      "metadata": {
        "colab": {
          "base_uri": "https://localhost:8080/"
        },
        "id": "LRnvPL5suSbj",
        "outputId": "6a559d20-19d5-4bf0-df0e-15447090e449"
      },
      "source": [
        "#Ejemplo 1.8\n",
        "nombre = 0\n",
        "MAT = 0\n",
        "CAL1 = 0\n",
        "CAL2 = 0\n",
        "CAL3 = 0\n",
        "CAL4 = 0\n",
        "CAL5 = 0\n",
        "PRO = 0\n",
        "\n",
        "MAT = int(input(\"Dame tu matrícula: \"))\n",
        "CAL1 = float(input(\"Dame una calificación: \"))\n",
        "CAL2 = float(input(\"Dame una calificación: \"))\n",
        "CAL3 = float(input(\"Dame una calificación: \"))\n",
        "CAL4 = float(input(\"Dame una calificación: \"))\n",
        "CAL5 = float(input(\"Dame una calificación: \"))\n",
        "PRO = (CAL1 + CAL2 + CAL3 + CAL4 + CAL5) / 5\n",
        "print(MAT, PRO) \n"
      ],
      "execution_count": 25,
      "outputs": [
        {
          "output_type": "stream",
          "text": [
            "Dame tu matrícula: 16500\n",
            "Dame una calificación: 8\n",
            "Dame una calificación: 8.5\n",
            "Dame una calificación: 9\n",
            "Dame una calificación: 7\n",
            "Dame una calificación: 6\n",
            "16500 7.7\n"
          ],
          "name": "stdout"
        }
      ]
    },
    {
      "cell_type": "code",
      "metadata": {
        "colab": {
          "base_uri": "https://localhost:8080/"
        },
        "id": "j7K5yiSuyDp3",
        "outputId": "0a58e444-a578-4574-e05b-2c54e2d92258"
      },
      "source": [
        "# EJEMPLO 1.9\n",
        "\n",
        "NUM = int(input(\"Introduce un numero entero: \"))\n",
        "CUA = NUM ** 2\n",
        "CUB = NUM ** 3\n",
        "print(CUA)\n",
        "print(CUB)\n"
      ],
      "execution_count": 27,
      "outputs": [
        {
          "output_type": "stream",
          "text": [
            "Introduce un numero entero: 4\n",
            "16\n",
            "64\n"
          ],
          "name": "stdout"
        }
      ]
    },
    {
      "cell_type": "code",
      "metadata": {
        "colab": {
          "base_uri": "https://localhost:8080/"
        },
        "id": "0OjygGg00Auh",
        "outputId": "573b7daf-25d7-4181-8080-7a42f91f8ab0"
      },
      "source": [
        "# Ejemplo 1.10\n",
        "\n",
        "BASE = 0\n",
        "ALTU = 0\n",
        "AREA = 0\n",
        "PERI = 0\n",
        "\n",
        "BASE = float(input(\"Introduce la base: \"))\n",
        "ALTU = float(input(\"Introduce la altura: \" ))\n",
        "AREA = BASE * ALTU\n",
        "PERI = 2 * (BASE + ALTU)\n",
        "\n",
        "print(f\"El área es {AREA}\")\n",
        "print(f\"El perimetro es {PERI}\")"
      ],
      "execution_count": 31,
      "outputs": [
        {
          "output_type": "stream",
          "text": [
            "Introduce la base: 8.5\n",
            "Introduce la altura: 6.2\n",
            "El área es 52.7\n",
            "El perimetro es 29.4\n"
          ],
          "name": "stdout"
        }
      ]
    },
    {
      "cell_type": "code",
      "metadata": {
        "id": "zru3k_Wa2Don"
      },
      "source": [
        ""
      ],
      "execution_count": null,
      "outputs": []
    }
  ]
}