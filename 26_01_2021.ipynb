{
  "nbformat": 4,
  "nbformat_minor": 0,
  "metadata": {
    "colab": {
      "name": "26/01/2021",
      "provenance": [],
      "collapsed_sections": [],
      "authorship_tag": "ABX9TyO+/AZysgrKNmDlx2tFBeEa",
      "include_colab_link": true
    },
    "kernelspec": {
      "name": "python3",
      "display_name": "Python 3"
    }
  },
  "cells": [
    {
      "cell_type": "markdown",
      "metadata": {
        "id": "view-in-github",
        "colab_type": "text"
      },
      "source": [
        "<a href=\"https://colab.research.google.com/github/MouldSkate/cyp_2021/blob/main/26_01_2021.ipynb\" target=\"_parent\"><img src=\"https://colab.research.google.com/assets/colab-badge.svg\" alt=\"Open In Colab\"/></a>"
      ]
    },
    {
      "cell_type": "markdown",
      "metadata": {
        "id": "zLnfF-qytOBC"
      },
      "source": [
        "# Lsitas de Python 3 \r\n",
        "1. Es una estructura de datos lineal de 0 o n elementos.\r\n",
        "1. \"Equivalente\" a los arreglos.\r\n",
        "1. Puede ser diferente tipo de dato.\r\n",
        "[1,2,32,12] , [1, True, 2.34, \"Hola\"] \r\n",
        "1. Pueden ser añadidos, listas de listas. [\"Melón\", [\"manzana roja \", \"Manzana amarilla\"]]\r\n",
        "1. Su selector es de forma: [int]\r\n",
        "1. Son mutables."
      ]
    },
    {
      "cell_type": "code",
      "metadata": {
        "colab": {
          "base_uri": "https://localhost:8080/"
        },
        "id": "CdVjudgDu8l-",
        "outputId": "4beca512-fe6e-46c7-ff2e-f4e4f0990ac8"
      },
      "source": [
        "# Ejemplos \r\n",
        "numeros = [4,2,45,7,83,3]\r\n",
        "print(numeros)\r\n",
        "print(numeros[2])\r\n",
        "\r\n",
        "# Una lista de 0 elementos\r\n",
        "colores = [] # Lista()\r\n",
        "type(colores) # Averiguar de que tipo de dato es una varaible con la funcion type\r\n",
        "dias = list()\r\n",
        "print(colores)\r\n",
        "print(dias)\r\n"
      ],
      "execution_count": 4,
      "outputs": [
        {
          "output_type": "stream",
          "text": [
            "[4, 2, 45, 7, 83, 3]\n",
            "45\n",
            "[]\n",
            "[]\n"
          ],
          "name": "stdout"
        }
      ]
    },
    {
      "cell_type": "code",
      "metadata": {
        "colab": {
          "base_uri": "https://localhost:8080/"
        },
        "id": "J1cpWtg1wSDX",
        "outputId": "075a927d-3317-4091-ef5f-1303d71268a0"
      },
      "source": [
        "# Pueden de diferente tipo de datos\r\n",
        "\r\n",
        "mi_lista = [1,2,3,\"Juan\",False,1.76,[5523987329,7233244325,2345345]]\r\n",
        "print(mi_lista)\r\n",
        "print(mi_lista[5])\r\n",
        "print(mi_lista[6][1])\r\n",
        "print(mi_lista[3][3])\r\n",
        "print(mi_lista[3][3::])\r\n",
        "print(mi_lista[3][-1::1])\r\n",
        "mi_lista = [1,2,3,\"Juan\",False,1.76,[\"5523987329\",\"7233244325\",\"2345345\"]]\r\n",
        "print(str(mi_lista[6][1][2]))\r\n"
      ],
      "execution_count": 17,
      "outputs": [
        {
          "output_type": "stream",
          "text": [
            "[1, 2, 3, 'Juan', False, 1.76, [5523987329, 7233244325, 2345345]]\n",
            "1.76\n",
            "7233244325\n",
            "n\n",
            "n\n",
            "n\n",
            "3\n"
          ],
          "name": "stdout"
        }
      ]
    },
    {
      "cell_type": "code",
      "metadata": {
        "colab": {
          "base_uri": "https://localhost:8080/"
        },
        "id": "QqId-qvW0Yj4",
        "outputId": "21527e2d-ae30-458f-85d4-dfbab733a096"
      },
      "source": [
        "frutas = [\"melon\", \"sandia\", \"kiwi\", \"aguacate\", \"mango\", \"platano\"]\r\n",
        "print(frutas)\r\n",
        "frutas[0] = \"Melón\"\r\n",
        "print(frutas)\r\n",
        "# frutas[1] = \"S\"\r\n",
        "print(frutas)\r\n",
        "# frutas[1][0] = \"S\"\r\n",
        "frutas[1] = frutas[1].capitalize()\r\n",
        "print(frutas)"
      ],
      "execution_count": 21,
      "outputs": [
        {
          "output_type": "stream",
          "text": [
            "['melon', 'sandia', 'kiwi', 'aguacate', 'mango', 'platano']\n",
            "['Melón', 'sandia', 'kiwi', 'aguacate', 'mango', 'platano']\n",
            "['Melón', 'sandia', 'kiwi', 'aguacate', 'mango', 'platano']\n",
            "['Melón', 'Sandia', 'kiwi', 'aguacate', 'mango', 'platano']\n"
          ],
          "name": "stdout"
        }
      ]
    },
    {
      "cell_type": "code",
      "metadata": {
        "colab": {
          "base_uri": "https://localhost:8080/"
        },
        "id": "VQHEY3-32L6_",
        "outputId": "8d219367-8625-44db-f9cc-13d8a0a13101"
      },
      "source": [
        "# Las listas son clases por lo tanto, tienen métodos \r\n",
        "# Ejemplo Append, agrega un elemento al final\r\n",
        "frutas = [\"melon\", \"sandia\", \"kiwi\", \"aguacate\", \"mango\", \"platano\"]\r\n",
        "frutas.append(\"Fresa\")\r\n",
        "print(frutas)\r\n",
        "\r\n",
        "print(\"Ejemplo de otras frutas\")\r\n",
        "# otras_frutas = frutas\r\n",
        "otras_frutas = frutas.copy() \r\n",
        "print(frutas)\r\n",
        "print(otras_frutas)\r\n",
        "otras_frutas[0] = \"chico zapote\"\r\n",
        "print(otras_frutas)\r\n",
        "print(frutas)\r\n",
        "print(\"------------------------------------------------------------------------------------\")\r\n",
        "\r\n",
        "print(\"Ejemplo de extend\")\r\n",
        "\r\n",
        "colores = [\"rojo\", \"verde\", \"azul\"]\r\n",
        "frutas.extend(colores)\r\n",
        "print(frutas)\r\n",
        "\r\n",
        "print(\"Ejemplo insert\")\r\n",
        "print(f\"Tamaño de la lista = { len(frutas) } \")\r\n",
        "frutas.insert(3,\"Limón\")\r\n",
        "print(frutas)\r\n",
        "print(f\"Tamaño de la lista = { len(frutas) } \")\r\n",
        "\r\n",
        "print(\"Ejemplo remove\")\r\n",
        "frutas.remove(\"kiwi\")\r\n",
        "print(frutas)\r\n",
        "\r\n",
        "print(\"Ejemplo con del\")\r\n",
        "del frutas[2] # Es un operador de listas\r\n",
        "print(frutas)\r\n",
        "\r\n",
        "frutas.clear()\r\n",
        "print(frutas)\r\n"
      ],
      "execution_count": 48,
      "outputs": [
        {
          "output_type": "stream",
          "text": [
            "['melon', 'sandia', 'kiwi', 'aguacate', 'mango', 'platano', 'Fresa']\n",
            "Ejemplo de otras frutas\n",
            "['melon', 'sandia', 'kiwi', 'aguacate', 'mango', 'platano', 'Fresa']\n",
            "['melon', 'sandia', 'kiwi', 'aguacate', 'mango', 'platano', 'Fresa']\n",
            "['chico zapote', 'sandia', 'kiwi', 'aguacate', 'mango', 'platano', 'Fresa']\n",
            "['melon', 'sandia', 'kiwi', 'aguacate', 'mango', 'platano', 'Fresa']\n",
            "------------------------------------------------------------------------------------\n",
            "Ejemplo de extend\n",
            "['melon', 'sandia', 'kiwi', 'aguacate', 'mango', 'platano', 'Fresa', 'rojo', 'verde', 'azul']\n",
            "Ejemplo insert\n",
            "Tamaño de la lista = 10 \n",
            "['melon', 'sandia', 'kiwi', 'Limón', 'aguacate', 'mango', 'platano', 'Fresa', 'rojo', 'verde', 'azul']\n",
            "Tamaño de la lista = 11 \n",
            "Ejemplo remove\n",
            "['melon', 'sandia', 'Limón', 'aguacate', 'mango', 'platano', 'Fresa', 'rojo', 'verde', 'azul']\n",
            "Ejemplo con del\n",
            "['melon', 'sandia', 'aguacate', 'mango', 'platano', 'Fresa', 'rojo', 'verde', 'azul']\n",
            "[]\n"
          ],
          "name": "stdout"
        }
      ]
    },
    {
      "cell_type": "code",
      "metadata": {
        "colab": {
          "base_uri": "https://localhost:8080/"
        },
        "id": "62TwO37J-25R",
        "outputId": "4dc09d61-018b-4152-a973-de4f9fbe2216"
      },
      "source": [
        "'''\r\n",
        "cosas = [\"Jose\", True,2,3,4,5,\"pedor\",1.23]\r\n",
        "indice = 0\r\n",
        "a_eliminar = []\r\n",
        "for elemento in cosas:\r\n",
        "  if isinstance(elemento, int):\r\n",
        "    print(\"entero\", elemento)\r\n",
        "    a_elimiar.append(indice)\r\n",
        "    # cosas.remove(elemento)\r\n",
        "  indice += 1\r\n",
        "print(a_eliminar)\r\n",
        "'''  \r\n",
        "cosas = [\"jose\",True,2,3,4,5,\"pedro\",1.23]\r\n",
        "indice = 0\r\n",
        "a_eliminar=[]\r\n",
        "for elemento in cosas:\r\n",
        "    if isinstance( elemento , int ) :\r\n",
        "        print(\"entero\",elemento) # cosas.remove(elemento)\r\n",
        "        a_eliminar.append(elemento)\r\n",
        "    indice += 1\r\n",
        "\r\n",
        "print(a_eliminar)\r\n",
        "for indice in a_eliminar:\r\n",
        "    print( indice)\r\n",
        "    cosas.remove(indice)\r\n",
        "print(cosas)"
      ],
      "execution_count": 56,
      "outputs": [
        {
          "output_type": "stream",
          "text": [
            "entero True\n",
            "entero 2\n",
            "entero 3\n",
            "entero 4\n",
            "entero 5\n",
            "[True, 2, 3, 4, 5]\n",
            "True\n",
            "2\n",
            "3\n",
            "4\n",
            "5\n",
            "['jose', 'pedro', 1.23]\n"
          ],
          "name": "stdout"
        }
      ]
    },
    {
      "cell_type": "code",
      "metadata": {
        "colab": {
          "base_uri": "https://localhost:8080/"
        },
        "id": "OE5bj1Nn2XR6",
        "outputId": "2a3c9a10-6e0c-4add-9f96-a49f8cea57a3"
      },
      "source": [
        "help(frutas)"
      ],
      "execution_count": 27,
      "outputs": [
        {
          "output_type": "stream",
          "text": [
            "Help on list object:\n",
            "\n",
            "class list(object)\n",
            " |  list() -> new empty list\n",
            " |  list(iterable) -> new list initialized from iterable's items\n",
            " |  \n",
            " |  Methods defined here:\n",
            " |  \n",
            " |  __add__(self, value, /)\n",
            " |      Return self+value.\n",
            " |  \n",
            " |  __contains__(self, key, /)\n",
            " |      Return key in self.\n",
            " |  \n",
            " |  __delitem__(self, key, /)\n",
            " |      Delete self[key].\n",
            " |  \n",
            " |  __eq__(self, value, /)\n",
            " |      Return self==value.\n",
            " |  \n",
            " |  __ge__(self, value, /)\n",
            " |      Return self>=value.\n",
            " |  \n",
            " |  __getattribute__(self, name, /)\n",
            " |      Return getattr(self, name).\n",
            " |  \n",
            " |  __getitem__(...)\n",
            " |      x.__getitem__(y) <==> x[y]\n",
            " |  \n",
            " |  __gt__(self, value, /)\n",
            " |      Return self>value.\n",
            " |  \n",
            " |  __iadd__(self, value, /)\n",
            " |      Implement self+=value.\n",
            " |  \n",
            " |  __imul__(self, value, /)\n",
            " |      Implement self*=value.\n",
            " |  \n",
            " |  __init__(self, /, *args, **kwargs)\n",
            " |      Initialize self.  See help(type(self)) for accurate signature.\n",
            " |  \n",
            " |  __iter__(self, /)\n",
            " |      Implement iter(self).\n",
            " |  \n",
            " |  __le__(self, value, /)\n",
            " |      Return self<=value.\n",
            " |  \n",
            " |  __len__(self, /)\n",
            " |      Return len(self).\n",
            " |  \n",
            " |  __lt__(self, value, /)\n",
            " |      Return self<value.\n",
            " |  \n",
            " |  __mul__(self, value, /)\n",
            " |      Return self*value.\n",
            " |  \n",
            " |  __ne__(self, value, /)\n",
            " |      Return self!=value.\n",
            " |  \n",
            " |  __new__(*args, **kwargs) from builtins.type\n",
            " |      Create and return a new object.  See help(type) for accurate signature.\n",
            " |  \n",
            " |  __repr__(self, /)\n",
            " |      Return repr(self).\n",
            " |  \n",
            " |  __reversed__(...)\n",
            " |      L.__reversed__() -- return a reverse iterator over the list\n",
            " |  \n",
            " |  __rmul__(self, value, /)\n",
            " |      Return value*self.\n",
            " |  \n",
            " |  __setitem__(self, key, value, /)\n",
            " |      Set self[key] to value.\n",
            " |  \n",
            " |  __sizeof__(...)\n",
            " |      L.__sizeof__() -- size of L in memory, in bytes\n",
            " |  \n",
            " |  append(...)\n",
            " |      L.append(object) -> None -- append object to end\n",
            " |  \n",
            " |  clear(...)\n",
            " |      L.clear() -> None -- remove all items from L\n",
            " |  \n",
            " |  copy(...)\n",
            " |      L.copy() -> list -- a shallow copy of L\n",
            " |  \n",
            " |  count(...)\n",
            " |      L.count(value) -> integer -- return number of occurrences of value\n",
            " |  \n",
            " |  extend(...)\n",
            " |      L.extend(iterable) -> None -- extend list by appending elements from the iterable\n",
            " |  \n",
            " |  index(...)\n",
            " |      L.index(value, [start, [stop]]) -> integer -- return first index of value.\n",
            " |      Raises ValueError if the value is not present.\n",
            " |  \n",
            " |  insert(...)\n",
            " |      L.insert(index, object) -- insert object before index\n",
            " |  \n",
            " |  pop(...)\n",
            " |      L.pop([index]) -> item -- remove and return item at index (default last).\n",
            " |      Raises IndexError if list is empty or index is out of range.\n",
            " |  \n",
            " |  remove(...)\n",
            " |      L.remove(value) -> None -- remove first occurrence of value.\n",
            " |      Raises ValueError if the value is not present.\n",
            " |  \n",
            " |  reverse(...)\n",
            " |      L.reverse() -- reverse *IN PLACE*\n",
            " |  \n",
            " |  sort(...)\n",
            " |      L.sort(key=None, reverse=False) -> None -- stable sort *IN PLACE*\n",
            " |  \n",
            " |  ----------------------------------------------------------------------\n",
            " |  Data and other attributes defined here:\n",
            " |  \n",
            " |  __hash__ = None\n",
            "\n"
          ],
          "name": "stdout"
        }
      ]
    },
    {
      "cell_type": "code",
      "metadata": {
        "colab": {
          "base_uri": "https://localhost:8080/"
        },
        "id": "Qh_Yb2o8FJsA",
        "outputId": "e68acbcc-64f2-420e-e90a-d694abcd20eb"
      },
      "source": [
        "# slicing sobre listas\r\n",
        "\r\n",
        "frutas = [\"melon\", \"sandia\", \"kiwi\", \"aguacate\", \"mango\", \"platano\"]\r\n",
        "\r\n",
        "print(frutas[1:4:])\r\n",
        "\r\n",
        "sistemas_operativos = [\"windows\", \"mac os\", \"Linux\", \"Android\"]\r\n",
        "autos = [\"Ford\", \"mazda\", \"Honda\"]\r\n",
        "\r\n",
        "cosas = [sistemas_operativos , autos]\r\n",
        "print(cosas)\r\n",
        "print(cosas[1])\r\n",
        "print(cosas[0][2])\r\n",
        "print(cosas[0][3][2:5:1])\r\n",
        "# dza\r\n",
        "print(cosas[1][1][-2:-5:-1])\r\n"
      ],
      "execution_count": 66,
      "outputs": [
        {
          "output_type": "stream",
          "text": [
            "['sandia', 'kiwi', 'aguacate']\n",
            "[['windows', 'mac os', 'Linux', 'Android'], ['Ford', 'mazda', 'Honda']]\n",
            "['Ford', 'mazda', 'Honda']\n",
            "Linux\n",
            "dro\n",
            "dza\n"
          ],
          "name": "stdout"
        }
      ]
    }
  ]
}