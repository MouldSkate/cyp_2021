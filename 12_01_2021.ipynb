{
  "nbformat": 4,
  "nbformat_minor": 0,
  "metadata": {
    "colab": {
      "name": "12/01/2021",
      "provenance": [],
      "collapsed_sections": [],
      "authorship_tag": "ABX9TyOnABUG1QtdFB5HXeAizYQz",
      "include_colab_link": true
    },
    "kernelspec": {
      "name": "python3",
      "display_name": "Python 3"
    }
  },
  "cells": [
    {
      "cell_type": "markdown",
      "metadata": {
        "id": "view-in-github",
        "colab_type": "text"
      },
      "source": [
        "<a href=\"https://colab.research.google.com/github/MouldSkate/cyp_2021/blob/main/12_01_2021.ipynb\" target=\"_parent\"><img src=\"https://colab.research.google.com/assets/colab-badge.svg\" alt=\"Open In Colab\"/></a>"
      ]
    },
    {
      "cell_type": "markdown",
      "metadata": {
        "id": "bAr7zuArpdVO"
      },
      "source": [
        "# Introduccion a Python\r\n",
        "- Creado en los 90´s por Guido Van R.\r\n",
        "- En el 2000 python mejora y tiene nuevas caracteristicas.\r\n",
        "- En el 2020 deja de4 ser la version oficial python 2.7 y solo se le dará soporte a python 3 en adelante.\r\n",
        "\r\n",
        "# Caracteristricas de Python\r\n",
        "1. Lenguaje de proposito general.\r\n",
        "2. Interpretado y no-complicado.\r\n",
        "3. Tipos de datos dinámicos, (numericos, cadenas, bool, entre otros).\r\n",
        "4. Multiplataforma.\r\n",
        "5. Lenguaje multi-paradigma (Imperativa, POO y funcional)\r\n",
        "6. Código estructurado por identacion\r\n",
        "\r\n",
        "```\r\n",
        "if a > 10:\r\n",
        "  print(\"Hola\")\r\n",
        "print(\"Hola dos\")\r\n",
        "```\r\n",
        "\r\n",
        "# Principios Zen de Python\r\n",
        "\r\n",
        "Son las caracteristicas que guian el diseño del lenguaje de progrmación Python.\r\n"
      ]
    },
    {
      "cell_type": "code",
      "metadata": {
        "colab": {
          "base_uri": "https://localhost:8080/"
        },
        "id": "x8QRsVG7r3dv",
        "outputId": "ee0bf71e-3945-4cf9-8a25-fcd90c3243d9"
      },
      "source": [
        "#primer programa en Python 3\r\n",
        "nombre = \"Jose\"\r\n",
        "edad = 18\r\n",
        "print(\"Hola\", nombre, edad)"
      ],
      "execution_count": 3,
      "outputs": [
        {
          "output_type": "stream",
          "text": [
            "Hola Jose 18\n"
          ],
          "name": "stdout"
        }
      ]
    },
    {
      "cell_type": "markdown",
      "metadata": {
        "id": "riaml9Mxvru9"
      },
      "source": [
        "# La función print()\r\n",
        "\r\n",
        "Es una de las funciones más empleadas en programación y busca enviar datos a la salida estandar (monitor).\r\n",
        "\r\n",
        "### Formas de uso\r\n",
        "1. Con comas\r\n",
        "2. con signos\r\n",
        "3. .format()\r\n",
        "4. el operador f\" \"\r\n",
        "\r\n",
        "# Con comas\r\n",
        "concatena los argumentos enviados a print y les agrega un espacio.\r\n",
        "\r\n",
        "# Con signos +\r\n",
        "Concatena los valores sin espacio y sin hacer conversion de tipos.\r\n",
        "\r\n",
        "# Con la funcion de format()\r\n",
        "Permite darle formato a la salida de la impresion de variables. Emplea la funcion format de el tipo de dato String.\r\n",
        "\r\n",
        "```\r\n",
        "\" cadena {} a {} format{}tear \".format(v1, v2, vn)\r\n",
        "```\r\n",
        "\r\n",
        "Emplea como comodines para sustituir valores los signos{}.\r\n",
        "\r\n",
        "# Con el operador f\"\"\r\n",
        "\r\n",
        "Es una variable de la forma anterior pero enmascarando la funcion format().\r\n",
        "\r\n",
        "```\r\n",
        "print(f\" adadasd {var} asasasd {var2} asasad {varn}\")\r\n",
        "```\r\n",
        "\r\n"
      ]
    },
    {
      "cell_type": "code",
      "metadata": {
        "colab": {
          "base_uri": "https://localhost:8080/"
        },
        "id": "_obeLMpBwuGu",
        "outputId": "6b108098-9401-4120-aed4-dbfdc694420e"
      },
      "source": [
        "print(\"Hola\", nombre, edad)\r\n",
        "print(\"Hola \" + nombre + \" \" + str(edad))\r\n",
        "#Nombre: Jose, con una edad de : 18 años.\r\n",
        "print(\"Nombre:\", nombre, \"con una edad de:\", edad, \"años\")\r\n",
        "print(\"Nombre: \" + nombre + \" con una edad de: \" + str(edad) , \"años\")\r\n",
        "# Con format()\r\n",
        "print(\"Nombre: {} con una edad de: {} años.\".format(nombre,edad))\r\n",
        "# con el operador f\"\"\r\n",
        "print(f\"Nombre: {nombre} con una edad de: {edad} años.\")"
      ],
      "execution_count": 17,
      "outputs": [
        {
          "output_type": "stream",
          "text": [
            "Hola Jose 18\n",
            "Hola Jose 18\n",
            "Nombre: Jose con una edad de: 18 años\n",
            "Nombre: Jose con una edad de: 18 años\n",
            "Nombre: Jose con una edad de: 18 años.\n",
            "Nombre: Jose con una edad de: 18 años.\n"
          ],
          "name": "stdout"
        }
      ]
    },
    {
      "cell_type": "markdown",
      "metadata": {
        "id": "YMyvVB_N2Jsg"
      },
      "source": [
        "# Funcion print() y los caracteres de escape.\r\n",
        "\r\n",
        "```\r\n",
        "\"\r\n",
        "```\r\n",
        "* \\n salto de linea\r\n",
        "* \\t tabulador\r\n",
        "* \\ imprimir la diagonal\r\n",
        "* 'y'\r\n",
        "* \\uxxxx\r\n",
        "* \\uxxxxxxxx\r\n"
      ]
    },
    {
      "cell_type": "code",
      "metadata": {
        "colab": {
          "base_uri": "https://localhost:8080/"
        },
        "id": "bCtSsnVM2rtj",
        "outputId": "1c5766c3-a756-41de-eaa3-81bb3b15dd2f"
      },
      "source": [
        "print('\"')\r\n",
        "print(\"\\\"\")\r\n",
        "print(\"Nombre: Jose\\n\\tcon una edad \\\\de: 18 años.\")\r\n",
        "# Caracter Unicode\r\n",
        "print(\"Hola \\u2661\")\r\n",
        "print(\"Hola \\u553F\")\r\n",
        "print(\"Hola \\u2618\")"
      ],
      "execution_count": 23,
      "outputs": [
        {
          "output_type": "stream",
          "text": [
            "\"\n",
            "\"\n",
            "Nombre: Jose\n",
            "\tcon una edad \\de: 18 años.\n",
            "Hola ♡\n",
            "Hola 唿\n",
            "Hola ☘\n"
          ],
          "name": "stdout"
        }
      ]
    },
    {
      "cell_type": "markdown",
      "metadata": {
        "id": "pQgR1Ujg8F3P"
      },
      "source": [
        "# print y salto de linea en el argumento.\r\n",
        "\r\n",
        "```\r\n",
        "print([lista de variables] , end=\"\\n\"\r\n",
        "```\r\n",
        "\r\n"
      ]
    },
    {
      "cell_type": "code",
      "metadata": {
        "colab": {
          "base_uri": "https://localhost:8080/"
        },
        "id": "isE6cwg_8a69",
        "outputId": "117511ac-a119-492f-807f-7eb7775f6141"
      },
      "source": [
        "print(\"Hola \", end=\"\\u13CD\")\r\n",
        "print(\"Mundo \", end=\"\")\r\n",
        "print(\"Fin\",  end=\"\\n\")"
      ],
      "execution_count": 27,
      "outputs": [
        {
          "output_type": "stream",
          "text": [
            "Hola ᏍMundo Fin\n"
          ],
          "name": "stdout"
        }
      ]
    },
    {
      "cell_type": "markdown",
      "metadata": {
        "id": "tO6Lay0w9fEt"
      },
      "source": [
        "# Comentarios en Python.\r\n",
        "Un comentario en programacion, es un texto especai que es ignorado por el interprete o compilador (Segun sea el caso) y es empleado para que el programador documente sus algoritmos }.\r\n",
        "\r\n",
        "Existen de dos tipos: de linea simple y de multiple linea.\r\n",
        "\r\n",
        "En Python.\r\n",
        "- Linea simple emplea #\r\n",
        "- Linea Multiple\r\n",
        "´´´\r\n",
        "\"\"\"\r\n",
        "esto \r\n",
        "es un \r\n",
        "cometario de linea\r\n",
        "multiple\r\n",
        "\"\"\"\r\n",
        "´´´"
      ]
    },
    {
      "cell_type": "code",
      "metadata": {
        "colab": {
          "base_uri": "https://localhost:8080/"
        },
        "id": "otGHm9sN-owM",
        "outputId": "934f3ebf-f6ca-4a21-de56-4a3b6b2cadd7"
      },
      "source": [
        "print(\"Hola\")\r\n",
        "print(\"Hola\")\r\n",
        "# print(\"Hola\")\r\n",
        "# Cualquier cosa\r\n",
        "print(\"Hola\")\r\n",
        "print(\"Hola\")\r\n",
        "print(\"Hola\") # Esta linea imprime hola\r\n",
        "print(\"Hola\")\r\n",
        "print(\"Hola\")\r\n",
        "print(\"Hola\")\r\n",
        "\"\"\"\r\n",
        "esto es un comentario de \r\n",
        "multiple linea. ideal para cuando deseas explicar algo \r\n",
        "a fondo que requiere mayor detalle.\r\n",
        "\"\"\"\r\n",
        "print(\"Hola\")\r\n",
        "print(\"Hola\")\r\n",
        "print(\"Hola\")"
      ],
      "execution_count": 28,
      "outputs": [
        {
          "output_type": "stream",
          "text": [
            "Hola\n",
            "Hola\n",
            "Hola\n",
            "Hola\n",
            "Hola\n",
            "Hola\n",
            "Hola\n",
            "Hola\n",
            "Hola\n",
            "Hola\n",
            "Hola\n"
          ],
          "name": "stdout"
        }
      ]
    }
  ]
}