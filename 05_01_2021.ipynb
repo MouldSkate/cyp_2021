{
  "nbformat": 4,
  "nbformat_minor": 0,
  "metadata": {
    "colab": {
      "name": "05/01/2021",
      "provenance": [],
      "collapsed_sections": [],
      "authorship_tag": "ABX9TyNfmRYrxgx9FgeBzaB89joh",
      "include_colab_link": true
    },
    "kernelspec": {
      "name": "python3",
      "display_name": "Python 3"
    }
  },
  "cells": [
    {
      "cell_type": "markdown",
      "metadata": {
        "id": "view-in-github",
        "colab_type": "text"
      },
      "source": [
        "<a href=\"https://colab.research.google.com/github/MouldSkate/cyp_2021/blob/main/05_01_2021.ipynb\" target=\"_parent\"><img src=\"https://colab.research.google.com/assets/colab-badge.svg\" alt=\"Open In Colab\"/></a>"
      ]
    },
    {
      "cell_type": "code",
      "metadata": {
        "colab": {
          "base_uri": "https://localhost:8080/"
        },
        "id": "vrV2Bi7gi_xW",
        "outputId": "6d94166b-758a-4c83-b4bf-3e07129e1af6"
      },
      "source": [
        "sueldos = [0.0 for x in range(7)]\r\n",
        "print(sueldos)\r\n",
        "sueldos[0] = 12.3\r\n",
        "sueldos[1] = 32.3\r\n",
        "sueldos[2] = 43.3\r\n",
        "sueldos[3] = 11.3\r\n",
        "sueldos[4] = 77.3\r\n",
        "sueldos[5] = 88.3\r\n",
        "sueldos[6] = 99.3\r\n",
        "print(sueldos)\r\n",
        "\"\"\"\r\n",
        "for j in range(7):\r\n",
        "  sueldos[j] = float(input(\"Introduce de 1 al 7: \"))\r\n",
        "print(sueldos)\r\n",
        "\"\"\"\r\n",
        "# Automatizar el rrecorrido de los elementos del arreglo.\r\n",
        "\r\n",
        "for i in range(7):\r\n",
        "  print(f\"El trabajador { int(i)+1 } gana ${ sueldo(i)\")"
      ],
      "execution_count": 5,
      "outputs": [
        {
          "output_type": "stream",
          "text": [
            "[0.0, 0.0, 0.0, 0.0, 0.0, 0.0, 0.0]\n",
            "[12.3, 32.3, 43.3, 11.3, 77.3, 88.3, 99.3]\n",
            "Introduce de 1 al 7: 1\n",
            "Introduce de 1 al 7: 2\n",
            "Introduce de 1 al 7: 3\n",
            "Introduce de 1 al 7: 4\n",
            "Introduce de 1 al 7: 5\n",
            "Introduce de 1 al 7: 6\n",
            "Introduce de 1 al 7: 7\n",
            "[1.0, 2.0, 3.0, 4.0, 5.0, 6.0, 7.0]\n"
          ],
          "name": "stdout"
        }
      ]
    },
    {
      "cell_type": "code",
      "metadata": {
        "colab": {
          "base_uri": "https://localhost:8080/"
        },
        "id": "LvLe7EN1owKz",
        "outputId": "077b0030-b25f-4e69-c65d-6bef296a787c"
      },
      "source": [
        "# Problema 4.1\r\n",
        "MAXIMO = 7\r\n",
        "suma = 0.0\r\n",
        "promedio = 0.0\r\n",
        "\r\n",
        "sueldos = [0.0 for x in range(MAXIMO)]\r\n",
        "\r\n",
        "for i in range(MAXIMO):\r\n",
        "  sueldos[i] = float(input(\"Dame el sueldo: \"))\r\n",
        "\r\n",
        "for i in range(MAXIMO):\r\n",
        "  print(f\"Trabajador {i+1}, gana : {sueldos[i] }\")\r\n",
        "\r\n",
        "for i in range(MAXIMO):\r\n",
        "  suma = suma + sueldos[i]\r\n",
        "\r\n",
        "promedio = suma / MAXIMO\r\n",
        "\r\n",
        "print(f\"El promedio de sueldo es ${promedio}\")\r\n",
        "\r\n",
        "for i in range(MAXIMO):\r\n",
        "  if (sueldos[i] > promedio):\r\n",
        "    print(f\"EL trabajador {i+1} tiene un sueldo mayor al promedio\")"
      ],
      "execution_count": 12,
      "outputs": [
        {
          "output_type": "stream",
          "text": [
            "Dame el sueldo: 4\n",
            "Dame el sueldo: 5\n",
            "Dame el sueldo: 4\n",
            "Dame el sueldo: 5\n",
            "Dame el sueldo: 4\n",
            "Dame el sueldo: 5\n",
            "Dame el sueldo: 4\n",
            "Trabajador 1, gana : 4.0\n",
            "Trabajador 2, gana : 5.0\n",
            "Trabajador 3, gana : 4.0\n",
            "Trabajador 4, gana : 5.0\n",
            "Trabajador 5, gana : 4.0\n",
            "Trabajador 6, gana : 5.0\n",
            "Trabajador 7, gana : 4.0\n",
            "El promedio de sueldo es $4.428571428571429\n",
            "EL trabajador 2 tiene un sueldo mayor al promedio\n",
            "EL trabajador 4 tiene un sueldo mayor al promedio\n",
            "EL trabajador 6 tiene un sueldo mayor al promedio\n"
          ],
          "name": "stdout"
        }
      ]
    },
    {
      "cell_type": "code",
      "metadata": {
        "colab": {
          "base_uri": "https://localhost:8080/"
        },
        "id": "EWmPCAMjsrdD",
        "outputId": "fb256972-3881-45aa-a6cf-93fb0e87773c"
      },
      "source": [
        "# Hacer un programa que solicite 5 valores enteros positivos y\r\n",
        "# una vez que se capturen por teclado, el programa determine:\r\n",
        "# 1.- Cual es el mayor\r\n",
        "# 2.- Cual es el menor \r\n",
        "# 3.- Cual es el promedio\r\n",
        "\"\"\"\r\n",
        "promedio = 0\r\n",
        "mayor = 0\r\n",
        "menor = 100000000\r\n",
        "max = 5\r\n",
        "suma = 0\r\n",
        "numero = [0.0 for x in range(max)]\r\n",
        "\r\n",
        "for i in range(max):\r\n",
        "  numero[i] = int(input(\"Introduce un entero positivo: \"))\r\n",
        "  if numero[i] > mayor:\r\n",
        "    mayor = numero[i]\r\n",
        "  elif numero[i] < menor:\r\n",
        "    menor = numero[i]\r\n",
        "\r\n",
        "for i in range(max):\r\n",
        "  suma = suma + numero[i]\r\n",
        "\r\n",
        "promedio = suma / max\r\n",
        "\r\n",
        "print(f\"El numero mayor es {mayor}\")\r\n",
        "print(f\"El numero menor es {menor}\")\r\n",
        "print(f\"El promedio es {promedio}\")\r\n",
        "\"\"\"\r\n",
        "maximo=5\r\n",
        "mayor=0\r\n",
        "menor=10000\r\n",
        "suma=0\r\n",
        "valor= [0.0 for x in range (maximo)]\r\n",
        "\r\n",
        "for i in range(maximo):\r\n",
        "  valor[i] = float(input(f\"Dame el valor: \"))\r\n",
        "  suma=suma+valor[i]\r\n",
        "  if valor[i] > mayor:\r\n",
        "    mayor= valor[i]\r\n",
        "  elif valor[i] < menor:\r\n",
        "    menor = valor[i]\r\n",
        "\r\n",
        "\r\n",
        "promedio=suma/maximo\r\n",
        "print(f\"El valor maximo es {mayor}\")\r\n",
        "print(f\"El valor minimo es {menor}\")\r\n",
        "print(f\"El promedio es {promedio}\")"
      ],
      "execution_count": 27,
      "outputs": [
        {
          "output_type": "stream",
          "text": [
            "Dame el valor: 1\n",
            "Dame el valor: 2\n",
            "Dame el valor: 3\n",
            "Dame el valor: 4\n",
            "Dame el valor: 5\n",
            "El valor maximo es 5.0\n",
            "El valor minimo es 10000\n",
            "El promedio es 3.0\n"
          ],
          "name": "stdout"
        }
      ]
    },
    {
      "cell_type": "code",
      "metadata": {
        "colab": {
          "base_uri": "https://localhost:8080/"
        },
        "id": "sKRnsxVzxQe2",
        "outputId": "56dbd2f9-0a2e-4d5f-ae6e-28af122970fc"
      },
      "source": [
        "# Problema 4.1\r\n",
        "N = int(input(\"Ingrese el número de elementos del arreglo: \"))\r\n",
        "VEC = [ ]\r\n",
        "\r\n",
        "if 1 <= N and N <=500:\r\n",
        "  VEC = [0 for x in range(N)]\r\n",
        "  for I in range(N):\r\n",
        "    VEC[I] = int(input(\"Ingrese valor\" + str(I + 1) + \": \"))\r\n",
        "  print(\"Liste de números sin repeticiones: \")\r\n",
        "  I = 0\r\n",
        "  while I < N:\r\n",
        "    print(VEC[I])\r\n",
        "    REPET = VEC[I]\r\n",
        "    while I < N and REPET == VEC[I]:\r\n",
        "      I = I + 1\r\n",
        "    I = I + 1  \r\n",
        "\r\n",
        "else:\r\n",
        "  print(\"El número de elementos del arreglo es incorrecto\")\r\n"
      ],
      "execution_count": 24,
      "outputs": [
        {
          "output_type": "stream",
          "text": [
            "Ingrese el número de elementos del arreglo: 10\n",
            "Ingrese valor1: 2\n",
            "Ingrese valor2: 3\n",
            "Ingrese valor3: 3\n",
            "Ingrese valor4: 3\n",
            "Ingrese valor5: 10\n",
            "Ingrese valor6: 20\n",
            "Ingrese valor7: 20\n",
            "Ingrese valor8: 40\n",
            "Ingrese valor9: 43\n",
            "Ingrese valor10: 51\n",
            "Liste de números sin repeticiones: \n",
            "2\n",
            "3\n",
            "10\n",
            "20\n",
            "40\n",
            "43\n",
            "51\n"
          ],
          "name": "stdout"
        }
      ]
    }
  ]
}