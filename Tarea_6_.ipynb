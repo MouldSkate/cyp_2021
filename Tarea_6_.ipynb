{
  "nbformat": 4,
  "nbformat_minor": 0,
  "metadata": {
    "colab": {
      "name": "Tarea 6.",
      "provenance": [],
      "collapsed_sections": [],
      "authorship_tag": "ABX9TyMCXKkRtMeq7kphGNxtcNIr",
      "include_colab_link": true
    },
    "kernelspec": {
      "display_name": "Python 3",
      "name": "python3"
    }
  },
  "cells": [
    {
      "cell_type": "markdown",
      "metadata": {
        "id": "view-in-github",
        "colab_type": "text"
      },
      "source": [
        "<a href=\"https://colab.research.google.com/github/MouldSkate/cyp_2021/blob/main/Tarea_6_.ipynb\" target=\"_parent\"><img src=\"https://colab.research.google.com/assets/colab-badge.svg\" alt=\"Open In Colab\"/></a>"
      ]
    },
    {
      "cell_type": "code",
      "metadata": {
        "colab": {
          "base_uri": "https://localhost:8080/"
        },
        "id": "b2ffqvcjUnWe",
        "outputId": "ff5b5612-cb6f-4713-f37b-003af03bc628"
      },
      "source": [
        "# Ejercicio 3.3\r\n",
        "serie = 0\r\n",
        "n = int(input(\"Numero n de enteros que quieres sumar: \"))\r\n",
        "band = True\r\n",
        "i = 1\r\n",
        "for i in range(n):\r\n",
        "  if (band == True):\r\n",
        "    serie = serie + 1/(i+1)\r\n",
        "    band = False\r\n",
        "  else:\r\n",
        "    serie = serie - 1/(i+1)\r\n",
        "    band = True\r\n",
        "  i = i + 1\r\n",
        "print(\"La suma de la serie es:\", serie)"
      ],
      "execution_count": null,
      "outputs": [
        {
          "output_type": "stream",
          "text": [
            "Numero n de enteros que quieres sumar: 9\n",
            "La suma de la serie es: 0.7456349206349207\n"
          ],
          "name": "stdout"
        }
      ]
    },
    {
      "cell_type": "code",
      "metadata": {
        "colab": {
          "base_uri": "https://localhost:8080/"
        },
        "id": "ZcaybHDG5oGt",
        "outputId": "b9bc83b9-cbcb-4da7-9cd7-d20e62bb3281"
      },
      "source": [
        "# Ejercicio  3.4\r\n",
        "nom = 0\r\n",
        "sue = float(input(\"Introduce tu sueldo actual: \"))\r\n",
        "while (sue != -1):\r\n",
        "  if (sue < 1000):\r\n",
        "    nsue = sue * 1.15\r\n",
        "  else:\r\n",
        "    nsue = sue * 1.12\r\n",
        "  nom = nom + nsue\r\n",
        "  print(f\"Su nuevo sueldo es de: {nsue}\")\r\n",
        "  sue = float(input(\"Introduce tu sueldo actual: \"))\r\n",
        "print(f\"La nomina es de: {nom}\")"
      ],
      "execution_count": null,
      "outputs": [
        {
          "output_type": "stream",
          "text": [
            "Introduce tu sueldo actual: 855\n",
            "Su nuevo sueldo es de: 983.2499999999999\n",
            "Introduce tu sueldo actual: 760.32\n",
            "Su nuevo sueldo es de: 874.3679999999999\n",
            "Introduce tu sueldo actual: 1100.20\n",
            "Su nuevo sueldo es de: 1232.2240000000002\n",
            "Introduce tu sueldo actual: 614\n",
            "Su nuevo sueldo es de: 706.0999999999999\n",
            "Introduce tu sueldo actual: 2600\n",
            "Su nuevo sueldo es de: 2912.0000000000005\n",
            "Introduce tu sueldo actual: 817.50\n",
            "Su nuevo sueldo es de: 940.1249999999999\n",
            "Introduce tu sueldo actual: 1280.30\n",
            "Su nuevo sueldo es de: 1433.9360000000001\n",
            "Introduce tu sueldo actual: 687\n",
            "Su nuevo sueldo es de: 790.05\n",
            "Introduce tu sueldo actual: -1\n",
            "La nomina es de: 9872.053\n"
          ],
          "name": "stdout"
        }
      ]
    },
    {
      "cell_type": "code",
      "metadata": {
        "colab": {
          "base_uri": "https://localhost:8080/"
        },
        "id": "jeyoGS6xWZOn",
        "outputId": "7d1a547b-ee7c-4168-cbb1-28f6ac94bef1"
      },
      "source": [
        "# Ejercicio 3.5\r\n",
        "sumpos = 0\r\n",
        "cuepos = 0\r\n",
        "sumort = 0\r\n",
        "n = int(input(\"Ingresa la cantidad de numeros: \"))\r\n",
        "num = [0.0 for x in range(n)]\r\n",
        "for j in range(n):\r\n",
        "  num[j]= int(input(\"Ingresa un numero entero: \"))\r\n",
        "  if (num[j] > 0):\r\n",
        "    sumpos = sumpos + num[j]\r\n",
        "    cuepos = cuepos +1\r\n",
        "  else:\r\n",
        "    sumort = sumort + num[j]\r\n",
        "  j = j + 1\r\n",
        "progen = (sumpos + sumort)/n\r\n",
        "propos = sumpos/cuepos\r\n",
        "print(\"Los números mayores a cero son:\", cuepos)\r\n",
        "print(\"El promedio de los númeors positivos son:\", propos)\r\n",
        "print(\"EL promedio de todos los números es:\", progen)"
      ],
      "execution_count": null,
      "outputs": [
        {
          "output_type": "stream",
          "text": [
            "Ingresa la cantidad de numeros: 20\n",
            "Ingresa un numero entero: 7\n",
            "Ingresa un numero entero: 12\n",
            "Ingresa un numero entero: 0\n",
            "Ingresa un numero entero: 6\n",
            "Ingresa un numero entero: 11\n",
            "Ingresa un numero entero: -3\n",
            "Ingresa un numero entero: 17\n",
            "Ingresa un numero entero: 12\n",
            "Ingresa un numero entero: 19\n",
            "Ingresa un numero entero: 0\n",
            "Ingresa un numero entero: 11\n",
            "Ingresa un numero entero: 4\n",
            "Ingresa un numero entero: -5\n",
            "Ingresa un numero entero: -1\n",
            "Ingresa un numero entero: 0\n",
            "Ingresa un numero entero: 3\n",
            "Ingresa un numero entero: 24\n",
            "Ingresa un numero entero: 0\n",
            "Ingresa un numero entero: 3\n",
            "Ingresa un numero entero: -16\n",
            "Los números mayores a cero son: 12\n",
            "El promedio de los númeors positivos son: 10.75\n",
            "EL promedio de todos los números es: 5.2\n"
          ],
          "name": "stdout"
        }
      ]
    },
    {
      "cell_type": "code",
      "metadata": {
        "colab": {
          "base_uri": "https://localhost:8080/"
        },
        "id": "bo8N2hidXmoC",
        "outputId": "0b81998e-3ab5-4d29-cf79-4416bb55e6cc"
      },
      "source": [
        "# Ejercicio 3.6\r\n",
        "may = -100000\r\n",
        "men = 100000\r\n",
        "n = int(input(\"Numero de enteros: \"))\r\n",
        "for i in range(n): \r\n",
        "  num =  int(input(\"Ingrese un número entero: \"))\r\n",
        "  if (num > may):\r\n",
        "    may = num\r\n",
        "  elif (num < men):\r\n",
        "    men = num815\r\n",
        "  else:\r\n",
        "    i = i + 1\r\n",
        "print(\"El número mayor es:\", may)\r\n",
        "print(\"El número menor es:\", men)   "
      ],
      "execution_count": null,
      "outputs": [
        {
          "output_type": "stream",
          "text": [
            "Numero de enteros: 12\n",
            "Ingrese un número entero: 170\n",
            "Ingrese un número entero: 44\n",
            "Ingrese un número entero: 815\n",
            "Ingrese un número entero: 1700\n",
            "Ingrese un número entero: 38\n",
            "Ingrese un número entero: 140\n",
            "Ingrese un número entero: 380\n",
            "Ingrese un número entero: 1020\n",
            "Ingrese un número entero: 116\n",
            "Ingrese un número entero: 14\n",
            "Ingrese un número entero: 730\n",
            "Ingrese un número entero: 960\n",
            "El número mayor es: 1700\n",
            "El número menor es: 14\n"
          ],
          "name": "stdout"
        }
      ]
    },
    {
      "cell_type": "code",
      "metadata": {
        "colab": {
          "base_uri": "https://localhost:8080/"
        },
        "id": "_jv2uY-zmKiZ",
        "outputId": "ac7abf55-9a7e-4f6b-ad27-8a259c1a4e70"
      },
      "source": [
        "# Ejercicio 3.7\r\n",
        "chica = 0\r\n",
        "media = 0\r\n",
        "grande = 0\r\n",
        "i = 1\r\n",
        "n = int(input(\"Introduce el número de ventas: \"))\r\n",
        "for i in range(n):\r\n",
        "  v = float(input(\"De caunto fue la venta: \"))\r\n",
        "  if (v <= 200):\r\n",
        "    chica = chica + 1\r\n",
        "  elif (v >= 400):\r\n",
        "    grande = grande + 1\r\n",
        "  else: \r\n",
        "    media = media + 1\r\n",
        "  i = i + 1\r\n",
        "print(\"Las ventas menores o iguales a $200 fueron:\", chica)\r\n",
        "print(\"Las ventas entre los $200 y $400 fueron:\", media)\r\n",
        "print(\"Las ventas mayores o iguales a $400 fueron:\", grande)"
      ],
      "execution_count": null,
      "outputs": [
        {
          "output_type": "stream",
          "text": [
            "Introduce el número de ventas: 12\n",
            "De caunto fue la venta: 180.25\n",
            "De caunto fue la venta: 470.30\n",
            "De caunto fue la venta: 150.25\n",
            "De caunto fue la venta: 88.60\n",
            "De caunto fue la venta: 230.15\n",
            "De caunto fue la venta: 170.20\n",
            "De caunto fue la venta: 40.30\n",
            "De caunto fue la venta: 201.90\n",
            "De caunto fue la venta: 60.32\n",
            "De caunto fue la venta: 280.30\n",
            "De caunto fue la venta: 15.70\n",
            "De caunto fue la venta: 140.20\n",
            "Las ventas menores o iguales a $200 fueron: 8\n",
            "Las ventas entre los $200 y $400 fueron: 3\n",
            "Las ventas mayores o iguales a $400 fueron: 1\n"
          ],
          "name": "stdout"
        }
      ]
    },
    {
      "cell_type": "code",
      "metadata": {
        "id": "x451fZUFFFo5"
      },
      "source": [
        "# Ejercicio 3.8  NO SALIO (no encontre el error de porque se repite infinitamente)\r\n",
        "num = int(input(\"Introduce un número entero: \"))\r\n",
        "if (num > 0):\r\n",
        "  while (num != 1):\r\n",
        "    print(num)\r\n",
        "    if ((-1**num) > 0):\r\n",
        "      num = num / 2\r\n",
        "    else:\r\n",
        "      num = (num*3)+1\r\n",
        "  print(num)\r\n",
        "else:\r\n",
        "  print(\"El número debe ser un entero positivo\")"
      ],
      "execution_count": null,
      "outputs": []
    },
    {
      "cell_type": "code",
      "metadata": {
        "id": "RAVu2-0pI8SO",
        "colab": {
          "base_uri": "https://localhost:8080/"
        },
        "outputId": "9f6f83f5-118d-4856-8101-a146df95bc2a"
      },
      "source": [
        "# Ejercicio 3.9 \r\n",
        "i = 1\r\n",
        "suma = 0\r\n",
        "n = int(input(\"Número de enteros a sumar: \"))\r\n",
        "for i in range(n):\r\n",
        "  suma = suma + ((i+1) ** (i+1))\r\n",
        "  i = i + 1\r\n",
        "print(\"La suma de la serie es:\", suma) "
      ],
      "execution_count": 4,
      "outputs": [
        {
          "output_type": "stream",
          "text": [
            "Número de enteros a sumar: 8\n",
            "La suma de la serie es: 17650828\n"
          ],
          "name": "stdout"
        }
      ]
    },
    {
      "cell_type": "code",
      "metadata": {
        "colab": {
          "base_uri": "https://localhost:8080/"
        },
        "id": "oRkJAH_VLpMF",
        "outputId": "564c6d8a-35ae-4215-f0ac-f0ef65b0c3ae"
      },
      "source": [
        "# Ejercicio 3.10 \r\n",
        "pri = 0\r\n",
        "seg = 1\r\n",
        "for i in range(7): # Profe. aqui en la repeticion pide que empiece en 1 pero como empieza en 0 esta como dsesfasado y no supe como hacer que empezara en 1\r\n",
        "  sig = pri + seg\r\n",
        "  print(sig)\r\n",
        "  pri = seg\r\n",
        "  seg = sig\r\n",
        "  i = i + 1 \r\n",
        "#print(pri)"
      ],
      "execution_count": null,
      "outputs": [
        {
          "output_type": "stream",
          "text": [
            "1\n",
            "2\n",
            "3\n",
            "5\n",
            "8\n",
            "13\n",
            "21\n"
          ],
          "name": "stdout"
        }
      ]
    },
    {
      "cell_type": "code",
      "metadata": {
        "colab": {
          "base_uri": "https://localhost:8080/"
        },
        "id": "2-G87swCs3At",
        "outputId": "0cc92a93-ae32-45e4-89a3-4ba93433c2a4"
      },
      "source": [
        "# Ejercio 3.11\r\n",
        "can1 = 0\r\n",
        "can2 = 0\r\n",
        "can3 = 0\r\n",
        "can4 = 0\r\n",
        "sumv = 0\r\n",
        "por1 = 0\r\n",
        "por2 = 0\r\n",
        "por3 = 0\r\n",
        "por4 = 0\r\n",
        "n = int(input(\"Para que candidato es tu voto: \"))\r\n",
        "while (n != 0):\r\n",
        "  if (n == 1):\r\n",
        "    can1 = can1 + 1\r\n",
        "  elif (n == 2):\r\n",
        "    can2 = can2 + 1\r\n",
        "  elif (n == 3):\r\n",
        "    can3 = can3 + 1\r\n",
        "  elif (n == 4):\r\n",
        "    can4 = can4 + 1\r\n",
        "  else:\r\n",
        "    print(\"Solo hay cuatro candidatos\")\r\n",
        "  n = int(input(\"Para que candidato es tu voto: \"))\r\n",
        "sumv = can1 + can2 + can3 + can4\r\n",
        "por1 = (can1 / sumv)*100\r\n",
        "por2 = (can2 / sumv)*100\r\n",
        "por3 = (can3 / sumv)*100\r\n",
        "por4 = (can4 / sumv)*100\r\n",
        "print(\"Votos para el candidato 1:\", can1, f\"porcentaje {por1}%\")\r\n",
        "print(\"Votos para el candidato 2:\", can2, f\"porcentaje {por2}%\")\r\n",
        "print(\"Votos para el candidato 3:\", can3, f\"porcentaje {por3}%\")\r\n",
        "print(\"Votos para el candidato 4:\", can4, f\"porcentaje {por4}%\")\r\n",
        "print(f\"Votos totales: {sumv}\")"
      ],
      "execution_count": null,
      "outputs": [
        {
          "output_type": "stream",
          "text": [
            "Para que candidato es tu voto: 1\n",
            "Para que candidato es tu voto: 1\n",
            "Para que candidato es tu voto: 2\n",
            "Para que candidato es tu voto: 1\n",
            "Para que candidato es tu voto: 3\n",
            "Para que candidato es tu voto: 1\n",
            "Para que candidato es tu voto: 1\n",
            "Para que candidato es tu voto: 2\n",
            "Para que candidato es tu voto: 4\n",
            "Para que candidato es tu voto: 4\n",
            "Para que candidato es tu voto: 3\n",
            "Para que candidato es tu voto: 1\n",
            "Para que candidato es tu voto: 1\n",
            "Para que candidato es tu voto: 2\n",
            "Para que candidato es tu voto: 3\n",
            "Para que candidato es tu voto: 1\n",
            "Para que candidato es tu voto: 4\n",
            "Para que candidato es tu voto: 1\n",
            "Para que candidato es tu voto: 2\n",
            "Para que candidato es tu voto: 1\n",
            "Para que candidato es tu voto: 2\n",
            "Para que candidato es tu voto: 4\n",
            "Para que candidato es tu voto: 4\n",
            "Para que candidato es tu voto: 2\n",
            "Para que candidato es tu voto: 1\n",
            "Para que candidato es tu voto: 0\n",
            "Votos para el candidato 1: 11 porcentaje 44.0\n",
            "Votos para el candidato 2: 6 porcentaje 24.0\n",
            "Votos para el candidato 3: 3 porcentaje 12.0\n",
            "Votos para el candidato 4: 5 porcentaje 20.0\n",
            "Votos totales: 25\n"
          ],
          "name": "stdout"
        }
      ]
    },
    {
      "cell_type": "code",
      "metadata": {
        "colab": {
          "base_uri": "https://localhost:8080/"
        },
        "id": "zrGTWvpNIg8v",
        "outputId": "0c2d3715-ef8b-411a-ad0f-e29b335deb65"
      },
      "source": [
        "# Ejercicio 3.12\r\n",
        "masue = 0\r\n",
        "n = int(input(\"Número de empleados: \"))\r\n",
        "i = 1\r\n",
        "for i in range(n):\r\n",
        "  numemp = int(input(\"Número del trabajador: \"))\r\n",
        "  sue = float(input(\"Sueldo del trabajador: \"))\r\n",
        "  if (sue > masue):\r\n",
        "    masue = sue \r\n",
        "    manum = numemp\r\n",
        "  i = i + 1\r\n",
        "print(\"El trabajador que tiene el mayor sueldo es:\", manum,\",\" f\"su sueldo es de: ${masue}\")"
      ],
      "execution_count": null,
      "outputs": [
        {
          "output_type": "stream",
          "text": [
            "Número de empleados: 6\n",
            "Número del trabajador: 1235\n",
            "Sueldo del trabajador: 2580\n",
            "Número del trabajador: 1260\n",
            "Sueldo del trabajador: 1400\n",
            "Número del trabajador: 1325\n",
            "Sueldo del trabajador: 3600\n",
            "Número del trabajador: 1418\n",
            "Sueldo del trabajador: 2720\n",
            "Número del trabajador: 1650\n",
            "Sueldo del trabajador: 4120\n",
            "Número del trabajador: 1717\n",
            "Sueldo del trabajador: 1950\n",
            "El trabajador qu etiene el mayor sueldo es: 1650 su sueldo es de: 4120.0\n"
          ],
          "name": "stdout"
        }
      ]
    },
    {
      "cell_type": "code",
      "metadata": {
        "colab": {
          "base_uri": "https://localhost:8080/"
        },
        "id": "3Lcqmt4dLvdd",
        "outputId": "a43779ba-0a7b-46d4-8125-38ffdd3111f4"
      },
      "source": [
        "# Ejercicio 3.13\r\n",
        "arno = 0\r\n",
        "arce = 0\r\n",
        "arsu = 0\r\n",
        "mersu = 500000\r\n",
        "i = 1\r\n",
        "for i in range(12):\r\n",
        "  rno = float(input(\"Lluvia caída del mes en la región norte: \"))\r\n",
        "  rce = float(input(\"Lluvia caída del mes en la región centro: \"))\r\n",
        "  rsu = float(input(\"Lluvia caída del mes en la región sur: \"))\r\n",
        "  arno = arno + rno \r\n",
        "  arce = arce + rce \r\n",
        "  arsu = arsu + rsu \r\n",
        "  if (rsu < mersu):\r\n",
        "    mersu = rsu\r\n",
        "    mes = i + 1\r\n",
        "  i = i + 1\r\n",
        "prorce = arce / 12\r\n",
        "print(f\"Promedio región: {prorce}\")\r\n",
        "print(\"Mes con menor lluvia región sur:\", mes)\r\n",
        "print(f\"Registro del mes: {mersu}\")\r\n",
        "if (arno > arce):\r\n",
        "  if (arno > arsu):\r\n",
        "    print(\"La región con mayor lluvia es la norte\")\r\n",
        "  else:\r\n",
        "    print(\"La región con mayor lluvia es la sur\")\r\n",
        "else:\r\n",
        "  if (arce > arsu):\r\n",
        "    print(\"La región con mayor lluvia es la centro\")\r\n",
        "  else:\r\n",
        "    print(\"La región con mayor lluvia es la sur\")"
      ],
      "execution_count": null,
      "outputs": [
        {
          "output_type": "stream",
          "text": [
            "Lluvia caída del mes en la región norte: 80\n",
            "Lluvia caída del mes en la región centro: 70\n",
            "Lluvia caída del mes en la región sur: 170\n",
            "Lluvia caída del mes en la región norte: 60\n",
            "Lluvia caída del mes en la región centro: 85\n",
            "Lluvia caída del mes en la región sur: 100\n",
            "Lluvia caída del mes en la región norte: 120\n",
            "Lluvia caída del mes en la región centro: 100\n",
            "Lluvia caída del mes en la región sur: 185\n",
            "Lluvia caída del mes en la región norte: 100\n",
            "Lluvia caída del mes en la región centro: 90\n",
            "Lluvia caída del mes en la región sur: 88\n",
            "Lluvia caída del mes en la región norte: 70\n",
            "Lluvia caída del mes en la región centro: 82\n",
            "Lluvia caída del mes en la región sur: 80\n",
            "Lluvia caída del mes en la región norte: 150\n",
            "Lluvia caída del mes en la región centro: 130\n",
            "Lluvia caída del mes en la región sur: 122\n",
            "Lluvia caída del mes en la región norte: 100\n",
            "Lluvia caída del mes en la región centro: 95\n",
            "Lluvia caída del mes en la región sur: 67\n",
            "Lluvia caída del mes en la región norte: 47\n",
            "Lluvia caída del mes en la región centro: 38\n",
            "Lluvia caída del mes en la región sur: 55\n",
            "Lluvia caída del mes en la región norte: 95\n",
            "Lluvia caída del mes en la región centro: 115\n",
            "Lluvia caída del mes en la región sur: 110\n",
            "Lluvia caída del mes en la región norte: 70\n",
            "Lluvia caída del mes en la región centro: 62\n",
            "Lluvia caída del mes en la región sur: 83\n",
            "Lluvia caída del mes en la región norte: 100\n",
            "Lluvia caída del mes en la región centro: 87\n",
            "Lluvia caída del mes en la región sur: 107\n",
            "Lluvia caída del mes en la región norte: 130\n",
            "Lluvia caída del mes en la región centro: 103\n",
            "Lluvia caída del mes en la región sur: 148\n",
            "Promedio región: 88.08333333333333\n",
            "Mes con menor lluvia región sur: 8\n",
            "Registro del mes: 55.0\n",
            "La región con mayor lluvia es la sur\n"
          ],
          "name": "stdout"
        }
      ]
    },
    {
      "cell_type": "code",
      "metadata": {
        "colab": {
          "base_uri": "https://localhost:8080/"
        },
        "id": "leU4YvS4rFP4",
        "outputId": "8d6d1698-6e46-4969-e191-835a1c5f1ea0"
      },
      "source": [
        "# Ejercicio 3.14 \r\n",
        "ap1 = 0\r\n",
        "ap2 = 0\r\n",
        "ap3 = 0\r\n",
        "ap4 = 0\r\n",
        "ap5 = 0\r\n",
        "recau = 0\r\n",
        "p1 = float(input(\"Precio de la localidad 1: \"))\r\n",
        "p2 = float(input(\"Precio de la localidad 2: \"))\r\n",
        "p3 = float(input(\"Precio de la localidad 3: \"))\r\n",
        "p4 = float(input(\"Precio de la localidad 4: \"))\r\n",
        "p5 = float(input(\"Precio de la localidad 5: \"))\r\n",
        "clave = int(input(\"Tipo de localidad de la venta: \"))\r\n",
        "cant = int(input(\"Cantidad de boletos vendidos de la localidad: \"))\r\n",
        "while (clave != -1): \r\n",
        "  if (clave == 1):\r\n",
        "    pre = p1 * cant \r\n",
        "    ap1 = ap1 + cant\r\n",
        "  elif (clave == 2):\r\n",
        "    pre = p2 * cant \r\n",
        "    ap2 = ap2 + cant\r\n",
        "  elif (clave == 3):\r\n",
        "    pre = p3 * cant \r\n",
        "    ap3 = ap3 + cant\r\n",
        "  elif (clave == 4):\r\n",
        "    pre = p4 * cant \r\n",
        "    ap4 = ap4 + cant\r\n",
        "  else:\r\n",
        "    pre = p5 * cant \r\n",
        "    ap5 = ap5 + cant\r\n",
        "  print(\"Clave:\", clave, \"Cantidad:\", cant, f\"Total:{pre}\")\r\n",
        "  recau = recau + pre \r\n",
        "  clave = int(input(\"Tipo de localidad de la venta: \"))\r\n",
        "  cant = int(input(\"Cantidad de boletos vendidos de la localidad: \"))\r\n",
        "print(\"Cantidad de boletos tipo 1:\", ap1)\r\n",
        "print(\"Cantidad de boletos tipo 2:\", ap2)\r\n",
        "print(\"Cantidad de boletos tipo 3:\", ap3)\r\n",
        "print(\"Cantidad de boletos tipo 4:\", ap4)\r\n",
        "print(\"Cantidad de boletos tipo 5:\", ap5)\r\n",
        "print(f\"Recaudación del estadio:{recau}\")"
      ],
      "execution_count": null,
      "outputs": [
        {
          "output_type": "stream",
          "text": [
            "Precio de la localidad 1: 7.25\n",
            "Precio de la localidad 2: 15.80\n",
            "Precio de la localidad 3: 25\n",
            "Precio de la localidad 4: 50\n",
            "Precio de la localidad 5: 75\n",
            "Tipo de localidad de la venta: 2\n",
            "Cantidad de boletos vendidos de la localidad: 3\n",
            "Clave: 2 Cantidad: 3 Total:47.400000000000006\n",
            "Tipo de localidad de la venta: 3\n",
            "Cantidad de boletos vendidos de la localidad: 8\n",
            "Clave: 3 Cantidad: 8 Total:200.0\n",
            "Tipo de localidad de la venta: 2\n",
            "Cantidad de boletos vendidos de la localidad: 4\n",
            "Clave: 2 Cantidad: 4 Total:63.2\n",
            "Tipo de localidad de la venta: 1\n",
            "Cantidad de boletos vendidos de la localidad: 6\n",
            "Clave: 1 Cantidad: 6 Total:43.5\n",
            "Tipo de localidad de la venta: 4\n",
            "Cantidad de boletos vendidos de la localidad: 5\n",
            "Clave: 4 Cantidad: 5 Total:250.0\n",
            "Tipo de localidad de la venta: 1\n",
            "Cantidad de boletos vendidos de la localidad: 12\n",
            "Clave: 1 Cantidad: 12 Total:87.0\n",
            "Tipo de localidad de la venta: 2\n",
            "Cantidad de boletos vendidos de la localidad: 8\n",
            "Clave: 2 Cantidad: 8 Total:126.4\n",
            "Tipo de localidad de la venta: 5\n",
            "Cantidad de boletos vendidos de la localidad: 3\n",
            "Clave: 5 Cantidad: 3 Total:225.0\n",
            "Tipo de localidad de la venta: 2\n",
            "Cantidad de boletos vendidos de la localidad: 7\n",
            "Clave: 2 Cantidad: 7 Total:110.60000000000001\n",
            "Tipo de localidad de la venta: 3\n",
            "Cantidad de boletos vendidos de la localidad: 14\n",
            "Clave: 3 Cantidad: 14 Total:350.0\n",
            "Tipo de localidad de la venta: 4\n",
            "Cantidad de boletos vendidos de la localidad: 1\n",
            "Clave: 4 Cantidad: 1 Total:50.0\n",
            "Tipo de localidad de la venta: 2\n",
            "Cantidad de boletos vendidos de la localidad: 11\n",
            "Clave: 2 Cantidad: 11 Total:173.8\n",
            "Tipo de localidad de la venta: 4\n",
            "Cantidad de boletos vendidos de la localidad: 9\n",
            "Clave: 4 Cantidad: 9 Total:450.0\n",
            "Tipo de localidad de la venta: 5\n",
            "Cantidad de boletos vendidos de la localidad: 7\n",
            "Clave: 5 Cantidad: 7 Total:525.0\n",
            "Tipo de localidad de la venta: 1\n",
            "Cantidad de boletos vendidos de la localidad: 23\n",
            "Clave: 1 Cantidad: 23 Total:166.75\n",
            "Tipo de localidad de la venta: 1\n",
            "Cantidad de boletos vendidos de la localidad: 18\n",
            "Clave: 1 Cantidad: 18 Total:130.5\n",
            "Tipo de localidad de la venta: 3\n",
            "Cantidad de boletos vendidos de la localidad: 4\n",
            "Clave: 3 Cantidad: 4 Total:100.0\n",
            "Tipo de localidad de la venta: -1\n",
            "Cantidad de boletos vendidos de la localidad: -1\n",
            "Cantidad de boletos tipo 1: 59\n",
            "Cantidad de boletos tipo 2: 33\n",
            "Cantidad de boletos tipo 3: 26\n",
            "Cantidad de boletos tipo 4: 15\n",
            "Cantidad de boletos tipo 5: 10\n",
            "Recaudación del estadio:3099.1499999999996\n"
          ],
          "name": "stdout"
        }
      ]
    },
    {
      "cell_type": "code",
      "metadata": {
        "colab": {
          "base_uri": "https://localhost:8080/"
        },
        "id": "Eyt0TRsH1GST",
        "outputId": "9ec0a1ec-3baf-4f67-e7cc-66269d4c8baf"
      },
      "source": [
        "# Ejercicio 3.15\r\n",
        "cl = 0\r\n",
        "cuenta = 0\r\n",
        "tipo = str(input(\"Tipo de llamada: \"))\r\n",
        "dur = int(input(\"Duración de la llamada: \"))\r\n",
        "while (dur != -1):\r\n",
        "  if (tipo == \"I\"):\r\n",
        "    if (dur > 3):\r\n",
        "      costo = 7.59 + ((dur - 3)*3.03)\r\n",
        "    else:\r\n",
        "      costo = 7.59\r\n",
        "  elif (tipo == \"L\"):\r\n",
        "    cl = cl + 1\r\n",
        "    if (cl > 50):\r\n",
        "      costo = 0.60\r\n",
        "    else:\r\n",
        "      costo = 0\r\n",
        "  elif (tipo == \"N\"):\r\n",
        "    if (dur > 3):\r\n",
        "      costo = 1.20 + ((dur - 3)*0.48)\r\n",
        "    else:\r\n",
        "      costo = 1.20\r\n",
        "  else:\r\n",
        "    print(\"Intenta con internacional, local o nacional\")\r\n",
        "  cuenta = cuenta + costo\r\n",
        "  tipo = str(input(\"Tipo de llamada: \"))\r\n",
        "  dur = int(input(\"Duración de la llamada: \"))\r\n",
        "print(f\"El costo total es: {cuenta}\")"
      ],
      "execution_count": null,
      "outputs": [
        {
          "output_type": "stream",
          "text": [
            "Tipo de llamada: I\n",
            "Duración de la llamada: 7\n",
            "Tipo de llamada: N\n",
            "Duración de la llamada: 6\n",
            "Tipo de llamada: N\n",
            "Duración de la llamada: 12\n",
            "Tipo de llamada: L\n",
            "Duración de la llamada: 5\n",
            "Tipo de llamada: L\n",
            "Duración de la llamada: 7\n",
            "Tipo de llamada: L\n",
            "Duración de la llamada: 15\n",
            "Tipo de llamada: N\n",
            "Duración de la llamada: 16\n",
            "Tipo de llamada: L\n",
            "Duración de la llamada: 7\n",
            "Tipo de llamada: L\n",
            "Duración de la llamada: 6\n",
            "Tipo de llamada: L\n",
            "Duración de la llamada: 4\n",
            "Tipo de llamada: I\n",
            "Duración de la llamada: 11\n",
            "Tipo de llamada: X\n",
            "Duración de la llamada: -1\n",
            "El costo total es: 67.14\n"
          ],
          "name": "stdout"
        }
      ]
    },
    {
      "cell_type": "code",
      "metadata": {
        "colab": {
          "base_uri": "https://localhost:8080/"
        },
        "id": "fN3wVN4omCvs",
        "outputId": "48632852-60ef-4815-fa1e-bc81c58853cb"
      },
      "source": [
        "# Problema 3.16\r\n",
        "tipo1 = 0\r\n",
        "tipo2 = 0\r\n",
        "tipo3 = 0\r\n",
        "tipo4 = 0\r\n",
        "tipo5 = 0\r\n",
        "mctipo2 = 0\r\n",
        "n = int(input(\"Número de años: \"))\r\n",
        "i = 1\r\n",
        "for i in range(n):\r\n",
        "  totvin = 0\r\n",
        "  j = 1\r\n",
        "  for j in range(5):\r\n",
        "    v = float(input(\"Cantidad de litros: \"))\r\n",
        "    totvin = totvin + v \r\n",
        "    if (j == 1):\r\n",
        "      tipo1 = tipo1 + v\r\n",
        "    elif (j == 2):\r\n",
        "      tipo2 = tipo2 + v\r\n",
        "      if (v > mctipo2):\r\n",
        "        mctipo2 = v\r\n",
        "        año = 1\r\n",
        "    elif (j == 3):\r\n",
        "      tipo3 = tipo3 + v\r\n",
        "      if (v == 0):\r\n",
        "        print(\"En el año:\", i+1, f\"No se produjo vino: {tipo3}\")\r\n",
        "    elif (j == 4):\r\n",
        "      tipo4 = tipo4 + v \r\n",
        "    else:\r\n",
        "      tipo5 = tipo5 + v \r\n",
        "    j = j + 1\r\n",
        "  print(f\"Total de litros producidos por un año: {totvin}\")\r\n",
        "  i = i + 1\r\n",
        "print(f\"Total tipo 1: {tipo1}\")\r\n",
        "print(f\"Total tipo 2: {tipo2}\")\r\n",
        "print(f\"Total tipo 3: {tipo3}\")\r\n",
        "print(f\"Total tipo 4: {tipo4}\")\r\n",
        "print(f\"Total tipo 5: {tipo5}\")\r\n",
        "print(\"Año en que se produjo mayor cantidad vino tipo 2:\", año, f\"litros: {mctipo2}\")"
      ],
      "execution_count": null,
      "outputs": [
        {
          "output_type": "stream",
          "text": [
            "Número de años: 2\n",
            "Cantidad de litros : 50\n",
            "Cantidad de litros : 23\n",
            "Cantidad de litros : 56\n",
            "Cantidad de litros : 45\n",
            "Cantidad de litros : 89\n",
            "Total de litros producidos por un año: 263.0\n",
            "Cantidad de litros : 2\n",
            "Cantidad de litros : 123\n",
            "Cantidad de litros : 5\n",
            "Cantidad de litros : 6\n",
            "Cantidad de litros : 78\n",
            "Total de litros producidos por un año: 214.0\n",
            "Total tipo 1: 146.0\n",
            "Total tipo 2: 61.0\n",
            "Total tipo 3: 51.0\n",
            "Total tipo 4: 167.0\n",
            "Total tipo 5: 52.0\n",
            "Año en que se produjo mayor cantidad vino tipo 2: 1 litros: 56.0\n"
          ],
          "name": "stdout"
        }
      ]
    },
    {
      "cell_type": "code",
      "metadata": {
        "colab": {
          "base_uri": "https://localhost:8080/"
        },
        "id": "GUh0E_gBmCz1",
        "outputId": "60e1608d-c81f-4140-883c-0e710fd1eb3f"
      },
      "source": [
        "# Ejercicio 3.17\r\n",
        "i = 3\r\n",
        "sp = 0\r\n",
        "m = int(input(\"Introduce un número entero positivo: \"))\r\n",
        "if (m >= 1):\r\n",
        "  sp = sp + 1\r\n",
        "  print(\"Número primo:\",1)\r\n",
        "  if (m > 2):\r\n",
        "    sp = sp + 1\r\n",
        "    print(\"Número primo:\",2)\r\n",
        "while (i <= m):\r\n",
        "  band = True\r\n",
        "  j = 3\r\n",
        "  while (j < (i / 2)):\r\n",
        "    if ((i % j) == 0):\r\n",
        "      band = True\r\n",
        "    j = j + 2\r\n",
        "  if (band ==True):\r\n",
        "    print(\"Número primo:\",i)\r\n",
        "    sp = sp + 1\r\n",
        "  i = i + 2\r\n",
        "print(\"Entre 1 y el número hay\",sp,\"números primos\")"
      ],
      "execution_count": null,
      "outputs": [
        {
          "output_type": "stream",
          "text": [
            "Introduce un número entero positivo: 10\n",
            "Número primo: 1\n",
            "Número primo: 2\n",
            "Número primo: 3\n",
            "Número primo: 5\n",
            "Número primo: 7\n",
            "Número primo: 9\n",
            "Entre 1 y el número hay 6 números primos\n"
          ],
          "name": "stdout"
        }
      ]
    },
    {
      "cell_type": "code",
      "metadata": {
        "colab": {
          "base_uri": "https://localhost:8080/"
        },
        "id": "jSFWnCukXehg",
        "outputId": "5f062410-c2ff-40c7-b813-57354b0624b8"
      },
      "source": [
        "# Ejercicio 3.18\r\n",
        "maypro = 0\r\n",
        "n = int(input(\"Número de fabricas: \"))\r\n",
        "if (n <= 1000):\r\n",
        "  i = 1\r\n",
        "  for i in range(n):\r\n",
        "    fabrica = int(input(\"Clave que identifica a la fabrica: \"))\r\n",
        "    totanu = 0\r\n",
        "    j = 1\r\n",
        "    for j in range(12):\r\n",
        "      mes = float(input(\"Producción de la fabrica en el mes: \"))\r\n",
        "      totanu = totanu + mes\r\n",
        "      if (mes > 3000000):\r\n",
        "        print(fabrica)\r\n",
        "      j = j + 1\r\n",
        "    if (totanu > maypro):\r\n",
        "      maypro = totanu \r\n",
        "      clave = fabrica\r\n",
        "    print(\"Producción anual fábrica:\", fabrica)\r\n",
        "    print(\":$\",totanu)\r\n",
        "    i = i + 1\r\n",
        "  print(\"Fabrica que mas produjo en el año:\", clave)\r\n",
        "  print(\"Producción: $\",maypro)\r\n",
        "else:\r\n",
        "  print(\"Error en número de fabricas\")"
      ],
      "execution_count": 6,
      "outputs": [
        {
          "output_type": "stream",
          "text": [
            "Número de fabricas: 2\n",
            "Clave que identifica a la fabrica: 1\n",
            "Producción de la fabrica en el mes: 65\n",
            "Producción de la fabrica en el mes: 789\n",
            "Producción de la fabrica en el mes: 234\n",
            "Producción de la fabrica en el mes: 987\n",
            "Producción de la fabrica en el mes: 1234\n",
            "Producción de la fabrica en el mes: 879\n",
            "Producción de la fabrica en el mes: 5\n",
            "Producción de la fabrica en el mes: 7\n",
            "Producción de la fabrica en el mes: 7980\n",
            "Producción de la fabrica en el mes: 789\n",
            "Producción de la fabrica en el mes: 64\n",
            "Producción de la fabrica en el mes: 78\n",
            "Producción anual fábrica: 1\n",
            ":$ 13111.0\n",
            "Clave que identifica a la fabrica: 2\n",
            "Producción de la fabrica en el mes: 879\n",
            "Producción de la fabrica en el mes: 34\n",
            "Producción de la fabrica en el mes: 56\n",
            "Producción de la fabrica en el mes: 89\n",
            "Producción de la fabrica en el mes: 234\n",
            "Producción de la fabrica en el mes: 56\n",
            "Producción de la fabrica en el mes: 987\n",
            "Producción de la fabrica en el mes: 43\n",
            "Producción de la fabrica en el mes: 67\n",
            "Producción de la fabrica en el mes: 897\n",
            "Producción de la fabrica en el mes: 67\n",
            "Producción de la fabrica en el mes: 76\n",
            "Producción anual fábrica: 2\n",
            ":$ 3485.0\n",
            "Fabrica que mas produjo en el año: 1\n",
            "Producción: $ 13111.0\n"
          ],
          "name": "stdout"
        }
      ]
    },
    {
      "cell_type": "code",
      "metadata": {
        "colab": {
          "base_uri": "https://localhost:8080/"
        },
        "id": "n6TRZxm3dOjx",
        "outputId": "349547f6-8934-4d2e-9ec8-55f2b6c02d29"
      },
      "source": [
        "# Ejercicio 3.19 \r\n",
        "n = int(input(\"Cantidad de números: \"))\r\n",
        "i = 1\r\n",
        "for i in range(n):\r\n",
        "  sum = 0\r\n",
        "  j = 1\r\n",
        "  for j in range(i//2): # El error esta aqui dice que no se puede poner con un numero real y lo force a que saliera entero con // pero sale cero entonces ya no supe como hacerlo \r\n",
        "    if ((i % (j)) == 0):\r\n",
        "      sum = sum + j\r\n",
        "    j = j + 1\r\n",
        "  if (sum == i):\r\n",
        "    print(i, \"es un número perfecto\")\r\n",
        "  i = i + 1"
      ],
      "execution_count": null,
      "outputs": [
        {
          "output_type": "stream",
          "text": [
            "Cantidad de números: 30\n",
            "0 es un número perfecto\n"
          ],
          "name": "stdout"
        }
      ]
    }
  ]
}