{
  "nbformat": 4,
  "nbformat_minor": 0,
  "metadata": {
    "colab": {
      "name": "28/01/2021",
      "provenance": [],
      "collapsed_sections": [],
      "authorship_tag": "ABX9TyOnmnbhWwbf5NS5h/U4VZRF",
      "include_colab_link": true
    },
    "kernelspec": {
      "name": "python3",
      "display_name": "Python 3"
    }
  },
  "cells": [
    {
      "cell_type": "markdown",
      "metadata": {
        "id": "view-in-github",
        "colab_type": "text"
      },
      "source": [
        "<a href=\"https://colab.research.google.com/github/MouldSkate/cyp_2021/blob/main/28_01_2021.ipynb\" target=\"_parent\"><img src=\"https://colab.research.google.com/assets/colab-badge.svg\" alt=\"Open In Colab\"/></a>"
      ]
    },
    {
      "cell_type": "markdown",
      "metadata": {
        "id": "dzPdcG8RBoup"
      },
      "source": [
        "# Tuplas \r\n",
        "- Tipo de dato lineal, estructura de datos. \r\n",
        "- No mutable\r\n",
        "- Puede contener de 0 a n elementos.\r\n",
        "- Se declara con '(' y ')'\r\n",
        "- No puedes agregar ni eliminar elementos.\r\n",
        "- Pueden ser anidadas\r\n",
        "- Los argumentos de una función son enviadas como tuplas."
      ]
    },
    {
      "cell_type": "code",
      "metadata": {
        "colab": {
          "base_uri": "https://localhost:8080/"
        },
        "id": "0siz701zCUpR",
        "outputId": "a477dd41-6676-474c-c466-f4756a4e8abe"
      },
      "source": [
        "frutas = ('Sandia', 'Melon', 'Limón', 'Mango')\r\n",
        "print(frutas)\r\n",
        "print(frutas[1:3:1])\r\n",
        "print(frutas.count('Manzanas'))\r\n",
        "\r\n",
        "# Son inmutables\r\n",
        "# frutas[1] = 'manzana'\r\n",
        "\r\n",
        "# ¿Pa que se usan?\r\n",
        "conexion = ('132.248.12.12' , 3306 , 'cyp_bd' , 'user_test' , '1234dios')\r\n",
        "print(f\"usiario: {conexion[3] } y passwd: {conexion[4]}\")"
      ],
      "execution_count": 8,
      "outputs": [
        {
          "output_type": "stream",
          "text": [
            "('Sandia', 'Melon', 'Limón', 'Mango')\n",
            "('Melon', 'Limón')\n",
            "0\n",
            "usiario: user_test y passwd: 1234dios\n"
          ],
          "name": "stdout"
        }
      ]
    },
    {
      "cell_type": "code",
      "metadata": {
        "colab": {
          "base_uri": "https://localhost:8080/"
        },
        "id": "38E5703QDU79",
        "outputId": "7779516b-2ad0-4e63-f19a-7beb7f71141d"
      },
      "source": [
        "print(dir(frutas))"
      ],
      "execution_count": 3,
      "outputs": [
        {
          "output_type": "stream",
          "text": [
            "['__add__', '__class__', '__contains__', '__delattr__', '__dir__', '__doc__', '__eq__', '__format__', '__ge__', '__getattribute__', '__getitem__', '__getnewargs__', '__gt__', '__hash__', '__init__', '__init_subclass__', '__iter__', '__le__', '__len__', '__lt__', '__mul__', '__ne__', '__new__', '__reduce__', '__reduce_ex__', '__repr__', '__rmul__', '__setattr__', '__sizeof__', '__str__', '__subclasshook__', 'count', 'index']\n"
          ],
          "name": "stdout"
        }
      ]
    },
    {
      "cell_type": "markdown",
      "metadata": {
        "id": "tN0IYp-YFsmm"
      },
      "source": [
        "# Diccionaros \r\n",
        "- Estructura de datos semi lineal.\r\n",
        "- Formada por pares, llave - valor.\r\n",
        "- Son equivalentes al tipo de dato JSON, de JavaScript.\r\n",
        "- Utiliza organización por función de dispersión.\r\n",
        "- Se declara con los elementos '{' y '}'\r\n",
        "- El selector usa valores de tipo string (llave).\r\n",
        "- No se puede seleccionar por offset [1]\r\n",
        "- Son mutables."
      ]
    },
    {
      "cell_type": "code",
      "metadata": {
        "colab": {
          "base_uri": "https://localhost:8080/"
        },
        "id": "vLLAdC1YG4dG",
        "outputId": "f789642a-406f-4c6c-b492-39e120d47832"
      },
      "source": [
        "alumno = { 'nombre' : 'Juan Pérez' , \r\n",
        "          'edad' : 18 , \r\n",
        "          'promedio' : 8.9 , \r\n",
        "          'materias' : {'mate' : 8 , 'ciencia' : 9 , 'ingles' : 8} , \r\n",
        "          'aprovado' : True}\r\n",
        "print(alumno)\r\n",
        "print(alumno['nombre'])\r\n"
      ],
      "execution_count": 23,
      "outputs": [
        {
          "output_type": "stream",
          "text": [
            "{'nombre': 'Juan Pérez', 'edad': 18, 'promedio': 8.9, 'materias': {'mate': 8, 'ciencia': 9, 'ingles': 8}, 'aprovado': True}\n",
            "Juan Pérez\n"
          ],
          "name": "stdout"
        }
      ]
    },
    {
      "cell_type": "code",
      "metadata": {
        "colab": {
          "base_uri": "https://localhost:8080/",
          "height": 338
        },
        "id": "lP5SFtKfLeuP",
        "outputId": "f040c8f3-2e0c-47b6-9029-7312e16a7c37"
      },
      "source": [
        "\r\n",
        "alumno = {'nombre':'Juan Pérez','edad':18,'altura':1.71,'estatus':'Aprobado','numeros':[555645902, 55326372]}\r\n",
        "print(alumno)\r\n",
        "print( alumno ['numeros'])\r\n",
        "# print(f\"Celular del alumno: {alumno\")\r\n",
        "'''\r\n",
        "materia = [\"Algebra\", \"Computadoras y Programacion\", \"Calculo Diferencial e Integral\", \"Introduccion a la Ingenieria\", \"Geometria Analitica\"]\r\n",
        "alumno = {\"ID\" : (123456789), \"Nombre\" : \"Yael\", \"Apellido\" : \"Castillo\", \"Edad\" : 20, \"Escuela\" : \"FES Aragon\", \"Materia\" : materia}\r\n",
        "for i in alumno:\r\n",
        "    print(f\"Clave: {i} - Valor: {alumno[i]}\")\r\n",
        "'''\r\n",
        "\r\n",
        "alumno = { 'nombre' : 'Juan Pérez', \r\n",
        "          'edad' : 18, \r\n",
        "          'Matricula': 312193, \r\n",
        "          'calificaciones' : ['Mate: 8', 'ciencias: 9', 'ingles: 8'], \r\n",
        "          'aprovado' : True, \r\n",
        "          'direccion' : {\r\n",
        "                          'calle' : 'Rancho seco',\r\n",
        "                          'numero' : 's/n',\r\n",
        "                          'colonia' : 'impulsora popular avicola' ,\r\n",
        "                          'municipio' : 'Mi-nezota',\r\n",
        "                          'estado' : {\r\n",
        "                                      'clave' : 15 ,\r\n",
        "                                      'nombre_clave' : 'MEX' ,\r\n",
        "                                      'nombre' : 'Estado de México'\r\n",
        "                                     }\r\n",
        "\r\n",
        "                        }\r\n",
        "          }\r\n",
        "print(alumno)\r\n",
        "print(alumno['nombre'])\r\n",
        "print(alumno['calificaciones'])\r\n",
        "# 9 calificaciones de ciencias ??\r\n",
        "print(alumno['calificaciones']['ciencias'])\r\n",
        "# nombre, todo en mayusculas\r\n",
        "print(alumno['nombre'].upper())\r\n",
        "print(\"----------------------------\")\r\n",
        "print(alumno)\r\n",
        "alumno['seguro'] = True\r\n",
        "print(alumno)\r\n",
        "print(\"----------------------------\")\r\n"
      ],
      "execution_count": 30,
      "outputs": [
        {
          "output_type": "stream",
          "text": [
            "{'nombre': 'Juan Pérez', 'edad': 18, 'altura': 1.71, 'estatus': 'Aprobado', 'numeros': [555645902, 55326372]}\n",
            "[555645902, 55326372]\n",
            "{'nombre': 'Juan Pérez', 'edad': 18, 'Matricula': 312193, 'calificaciones': ['Mate: 8', 'ciencias: 9', 'ingles: 8'], 'aprovado': True, 'direccion': {'calle': 'Rancho seco', 'numero': 's/n', 'colonia': 'impulsora popular avicola', 'municipio': 'Mi-nezota', 'estado': {'clave': 15, 'nombre_clave': 'MEX', 'nombre': 'Estado de México'}}}\n",
            "Juan Pérez\n",
            "['Mate: 8', 'ciencias: 9', 'ingles: 8']\n"
          ],
          "name": "stdout"
        },
        {
          "output_type": "error",
          "ename": "TypeError",
          "evalue": "ignored",
          "traceback": [
            "\u001b[0;31m---------------------------------------------------------------------------\u001b[0m",
            "\u001b[0;31mTypeError\u001b[0m                                 Traceback (most recent call last)",
            "\u001b[0;32m<ipython-input-30-cfac55ab1ddc>\u001b[0m in \u001b[0;36m<module>\u001b[0;34m()\u001b[0m\n\u001b[1;32m     33\u001b[0m \u001b[0mprint\u001b[0m\u001b[0;34m(\u001b[0m\u001b[0malumno\u001b[0m\u001b[0;34m[\u001b[0m\u001b[0;34m'calificaciones'\u001b[0m\u001b[0;34m]\u001b[0m\u001b[0;34m)\u001b[0m\u001b[0;34m\u001b[0m\u001b[0;34m\u001b[0m\u001b[0m\n\u001b[1;32m     34\u001b[0m \u001b[0;31m# 9 calificaciones de ciencias ??\u001b[0m\u001b[0;34m\u001b[0m\u001b[0;34m\u001b[0m\u001b[0;34m\u001b[0m\u001b[0m\n\u001b[0;32m---> 35\u001b[0;31m \u001b[0mprint\u001b[0m\u001b[0;34m(\u001b[0m\u001b[0malumno\u001b[0m\u001b[0;34m[\u001b[0m\u001b[0;34m'calificaciones'\u001b[0m\u001b[0;34m]\u001b[0m\u001b[0;34m[\u001b[0m\u001b[0;34m'ciencias'\u001b[0m\u001b[0;34m]\u001b[0m\u001b[0;34m)\u001b[0m\u001b[0;34m\u001b[0m\u001b[0;34m\u001b[0m\u001b[0m\n\u001b[0m\u001b[1;32m     36\u001b[0m \u001b[0;31m# nombre, todo en mayusculas\u001b[0m\u001b[0;34m\u001b[0m\u001b[0;34m\u001b[0m\u001b[0;34m\u001b[0m\u001b[0m\n\u001b[1;32m     37\u001b[0m \u001b[0mprint\u001b[0m\u001b[0;34m(\u001b[0m\u001b[0malumno\u001b[0m\u001b[0;34m[\u001b[0m\u001b[0;34m'nombre'\u001b[0m\u001b[0;34m]\u001b[0m\u001b[0;34m.\u001b[0m\u001b[0mupper\u001b[0m\u001b[0;34m(\u001b[0m\u001b[0;34m)\u001b[0m\u001b[0;34m)\u001b[0m\u001b[0;34m\u001b[0m\u001b[0;34m\u001b[0m\u001b[0m\n",
            "\u001b[0;31mTypeError\u001b[0m: list indices must be integers or slices, not str"
          ]
        }
      ]
    },
    {
      "cell_type": "code",
      "metadata": {
        "id": "QuMSJzEROS9X"
      },
      "source": [
        "cliente = {}\r\n"
      ],
      "execution_count": 25,
      "outputs": []
    },
    {
      "cell_type": "code",
      "metadata": {
        "colab": {
          "base_uri": "https://localhost:8080/"
        },
        "id": "4bKICNRRVEbj",
        "outputId": "04853768-f414-489a-be31-baa80898bf93"
      },
      "source": [
        "funciones = dir(dict)\r\n",
        "for funcion in funciones:\r\n",
        "  print(funcion)"
      ],
      "execution_count": 35,
      "outputs": [
        {
          "output_type": "stream",
          "text": [
            "__class__\n",
            "__contains__\n",
            "__delattr__\n",
            "__delitem__\n",
            "__dir__\n",
            "__doc__\n",
            "__eq__\n",
            "__format__\n",
            "__ge__\n",
            "__getattribute__\n",
            "__getitem__\n",
            "__gt__\n",
            "__hash__\n",
            "__init__\n",
            "__init_subclass__\n",
            "__iter__\n",
            "__le__\n",
            "__len__\n",
            "__lt__\n",
            "__ne__\n",
            "__new__\n",
            "__reduce__\n",
            "__reduce_ex__\n",
            "__repr__\n",
            "__setattr__\n",
            "__setitem__\n",
            "__sizeof__\n",
            "__str__\n",
            "__subclasshook__\n",
            "clear\n",
            "copy\n",
            "fromkeys\n",
            "get\n",
            "items\n",
            "keys\n",
            "pop\n",
            "popitem\n",
            "setdefault\n",
            "update\n",
            "values\n"
          ],
          "name": "stdout"
        }
      ]
    },
    {
      "cell_type": "markdown",
      "metadata": {
        "id": "fKPZdI-0VtqU"
      },
      "source": [
        "# Manipulacióm de los pares llave valor.\r\n",
        "Para ello se emplean los métodos:\r\n",
        "- keys() te regresa una tupla con los strings llave del diccionario.\r\n",
        "- values() te regresa solo los valores\r\n",
        "- items() te regresa los pares"
      ]
    },
    {
      "cell_type": "code",
      "metadata": {
        "colab": {
          "base_uri": "https://localhost:8080/"
        },
        "id": "-EvqFUcDWJ9z",
        "outputId": "25153e47-cd25-4a9f-9947-008cf15c6507"
      },
      "source": [
        "print(alumno) \r\n",
        "llaves = alumno.keys()\r\n",
        "print(llaves)\r\n",
        "for elem in llaves:\r\n",
        "  print( elem )\r\n",
        "  print(alumno[elem])\r\n",
        "# print(help(llaves))\r\n",
        "\r\n",
        "\r\n",
        "# manipular los valores \r\n",
        "valores = alumno.values()\r\n",
        "print(valores)\r\n",
        "print(\"-------------------------------------------------\")\r\n",
        "for val in valores:\r\n",
        "  print(val)\r\n",
        "\r\n",
        "\r\n",
        "# manipular pares\r\n",
        "pares = alumno.items()\r\n",
        "print(pares)\r\n",
        "for par in pares:\r\n",
        "  print(par)"
      ],
      "execution_count": 45,
      "outputs": [
        {
          "output_type": "stream",
          "text": [
            "{'nombre': 'Juan Pérez', 'edad': 18, 'Matricula': 312193, 'calificaciones': ['Mate: 8', 'ciencias: 9', 'ingles: 8'], 'aprovado': True, 'direccion': {'calle': 'Rancho seco', 'numero': 's/n', 'colonia': 'impulsora popular avicola', 'municipio': 'Mi-nezota', 'estado': {'clave': 15, 'nombre_clave': 'MEX', 'nombre': 'Estado de México'}}}\n",
            "dict_keys(['nombre', 'edad', 'Matricula', 'calificaciones', 'aprovado', 'direccion'])\n",
            "nombre\n",
            "Juan Pérez\n",
            "edad\n",
            "18\n",
            "Matricula\n",
            "312193\n",
            "calificaciones\n",
            "['Mate: 8', 'ciencias: 9', 'ingles: 8']\n",
            "aprovado\n",
            "True\n",
            "direccion\n",
            "{'calle': 'Rancho seco', 'numero': 's/n', 'colonia': 'impulsora popular avicola', 'municipio': 'Mi-nezota', 'estado': {'clave': 15, 'nombre_clave': 'MEX', 'nombre': 'Estado de México'}}\n",
            "dict_values(['Juan Pérez', 18, 312193, ['Mate: 8', 'ciencias: 9', 'ingles: 8'], True, {'calle': 'Rancho seco', 'numero': 's/n', 'colonia': 'impulsora popular avicola', 'municipio': 'Mi-nezota', 'estado': {'clave': 15, 'nombre_clave': 'MEX', 'nombre': 'Estado de México'}}])\n",
            "-------------------------------------------------\n",
            "Juan Pérez\n",
            "18\n",
            "312193\n",
            "['Mate: 8', 'ciencias: 9', 'ingles: 8']\n",
            "True\n",
            "{'calle': 'Rancho seco', 'numero': 's/n', 'colonia': 'impulsora popular avicola', 'municipio': 'Mi-nezota', 'estado': {'clave': 15, 'nombre_clave': 'MEX', 'nombre': 'Estado de México'}}\n",
            "dict_items([('nombre', 'Juan Pérez'), ('edad', 18), ('Matricula', 312193), ('calificaciones', ['Mate: 8', 'ciencias: 9', 'ingles: 8']), ('aprovado', True), ('direccion', {'calle': 'Rancho seco', 'numero': 's/n', 'colonia': 'impulsora popular avicola', 'municipio': 'Mi-nezota', 'estado': {'clave': 15, 'nombre_clave': 'MEX', 'nombre': 'Estado de México'}})])\n",
            "('nombre', 'Juan Pérez')\n",
            "('edad', 18)\n",
            "('Matricula', 312193)\n",
            "('calificaciones', ['Mate: 8', 'ciencias: 9', 'ingles: 8'])\n",
            "('aprovado', True)\n",
            "('direccion', {'calle': 'Rancho seco', 'numero': 's/n', 'colonia': 'impulsora popular avicola', 'municipio': 'Mi-nezota', 'estado': {'clave': 15, 'nombre_clave': 'MEX', 'nombre': 'Estado de México'}})\n"
          ],
          "name": "stdout"
        }
      ]
    },
    {
      "cell_type": "code",
      "metadata": {
        "id": "0n5-tLWKYODW"
      },
      "source": [
        ""
      ],
      "execution_count": null,
      "outputs": []
    }
  ]
}