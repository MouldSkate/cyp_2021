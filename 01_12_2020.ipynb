{
  "nbformat": 4,
  "nbformat_minor": 0,
  "metadata": {
    "colab": {
      "name": "01/12/2020",
      "provenance": [],
      "authorship_tag": "ABX9TyMTnd6S2+JN9bNKDkHxPPkk",
      "include_colab_link": true
    },
    "kernelspec": {
      "name": "python3",
      "display_name": "Python 3"
    }
  },
  "cells": [
    {
      "cell_type": "markdown",
      "metadata": {
        "id": "view-in-github",
        "colab_type": "text"
      },
      "source": [
        "<a href=\"https://colab.research.google.com/github/MouldSkate/cyp_2021/blob/main/01_12_2020.ipynb\" target=\"_parent\"><img src=\"https://colab.research.google.com/assets/colab-badge.svg\" alt=\"Open In Colab\"/></a>"
      ]
    },
    {
      "cell_type": "code",
      "metadata": {
        "id": "sZFreDoFTsNZ",
        "colab": {
          "base_uri": "https://localhost:8080/"
        },
        "outputId": "2306b9ec-766b-4a13-fdac-7e3b4f2179b5"
      },
      "source": [
        "# Ejemplo 1\n",
        "# Pedir 3 números enteros y mostrar el mayor de los tres \n",
        "numero1 = int (input(\"Introduce el primer número: \"))\n",
        "numero2 = int (input(\"Introduce el segundo número: \"))\n",
        "numero3 = int (input(\"Itroduce el tercer número: \"))\n",
        "\n",
        "if numero1 >= numero2 and numero1 >= numero3:\n",
        "  print(numero1, \"Es mayor\")\n",
        "elif numero2 >= numero1 and numero2 >= numero3:\n",
        "  print(numero3, \"Es el mayor\")\n"
      ],
      "execution_count": 25,
      "outputs": [
        {
          "output_type": "stream",
          "text": [
            "Introduce el primer número: 9\n",
            "Introduce el segundo número: 3\n",
            "Itroduce el tercer número: 4\n",
            "9 Es mayor\n"
          ],
          "name": "stdout"
        }
      ]
    },
    {
      "cell_type": "code",
      "metadata": {
        "colab": {
          "base_uri": "https://localhost:8080/"
        },
        "id": "MMQtPcsgVvDV",
        "outputId": "cd775875-a116-4ff2-b75f-56c4c7161285"
      },
      "source": [
        "# Ejemplo 2\n",
        "print(\"Ingrese el nombre del trabajador\")\n",
        "nombre=input()\n",
        "print(\"Cuantas horas trabajo esta semana\" , nombre ,\":\")\n",
        "horas=int (input())\n",
        "horas=int (horas)\n",
        "print(\"Cuánto se paga por hora\")\n",
        "sueldoH=int (input())\n",
        "sueldo=float (sueldoH)\n",
        "\n",
        "# Evaluart el sueldo\n",
        "\n",
        "if(horas<=40):\n",
        "  pago=horas * sueldoH\n",
        "  print(\"El sueldo final de \" ,nombre , \"Es $\", pago)\n",
        "\n",
        "else:\n",
        "  extras=horas-40\n",
        "  pago=40 * sueldoH\n",
        "  pagoFinal = pago + ((extras * sueldoH)*2)\n",
        "  print(\"El sueldo final de \" ,nombre , \"Es $\" , pagoFinal)"
      ],
      "execution_count": 27,
      "outputs": [
        {
          "output_type": "stream",
          "text": [
            "Ingrese el nombre del trabajador\n",
            "Karla\n",
            "Cuantas horas trabajo esta semana Karla :\n",
            "60\n",
            "Cuánto se paga por hora\n",
            "200\n",
            "El sueldo final de  Karla Es $ 16000\n"
          ],
          "name": "stdout"
        }
      ]
    },
    {
      "cell_type": "code",
      "metadata": {
        "id": "FoBEfUare2oU",
        "colab": {
          "base_uri": "https://localhost:8080/"
        },
        "outputId": "ff7af194-ec2d-483b-acbf-483608cf73a8"
      },
      "source": [
        "#Ejemplo 3\n",
        "#Calcular el salario semanal de x trabajador\n",
        "#El salario semanal se calcula en base a las horas semanales trabajadas\n",
        "#El pago por hora es variable (se pide por teclado)\n",
        "#Si las horas trabajadas superan las 40 horas, el pago por hora extra es:\n",
        "#Doble en el rango de 41horas a 50horas\n",
        "#Triple en el rango de 51horas a 60 horas\n",
        "#Incentivo de $2000 si rebasa las 60 horas.\n",
        "\n",
        "print(\"Ingrese el nombre del trabajador\")\n",
        "nombre=input()\n",
        "print(\"Cuantas horas trabajo esta semana\" , nombre ,\":\")\n",
        "horas=int (input())\n",
        "horas=int (horas)\n",
        "print(\"Cuánto se paga por hora\")\n",
        "sueldoH=int (input())\n",
        "sueldo=float (sueldoH)\n",
        "\n",
        "if (horas <= 40):\n",
        "  pago=horas * sueldoH\n",
        "  print(\"El sueldo Final de : \" ,nombre , \"Es $\" , pago)\n",
        "\n",
        "elif (horas > 40 and horas <= 50):\n",
        "  extrasDobles=horas-40\n",
        "  print(\"Horas extra dobles: \" ,extrasDobles)\n",
        "  pago=40*sueldoH\n",
        "  print(\"Sueldo base:$\",pago)\n",
        "  pagoDoble= extrasDobles + sueldoH *2\n",
        "  print(\"Pago de horas dobles:$\" , pagoDoble)\n",
        "  pagoFinal=pago +ágoDoble\n",
        "  print(\"El sueldo Final de : \" ,nombre , \"Es $\", pagoFinal)\n",
        "\n",
        "elif (horas >50 and horas <=60):\n",
        "  extrasTriples=horas-50\n",
        "  print(\"horas extra dobles:10\")\n",
        "  print(\"horas extra triples:\",extrasTriples)\n",
        "  pago= 40* sueldoH\n",
        "  print(\"sueldo base:$\", pago)\n",
        "  pagoDoble=10*sueldoH*2\n",
        "  print(\"pago de horas extras dobles:\", pagoDoble)\n",
        "  pagoTriple=extrasTriples *sueldoH *3\n",
        "  print(\"pago de horas extra triples:\" ,pagoTriple)\n",
        "  pagoFinal=pago + pagoDoble+ pagoTriple\n",
        "  print(\"El sueldo Final de : \" ,nombre , \"Es $\", pagoFinal)\n",
        "\n",
        "else:\n",
        "  extrasTriples=10\n",
        "  print(\"Horas extra dobles 10\")\n",
        "  print(\"horas extra triples 10\")\n",
        "  pago= 40*sueldoH\n",
        "  print(\"Sueldo Base:$\",pago)\n",
        "  pagoDoble=10*sueldoH*2\n",
        "  print(\"Pago de horas extra Dobles:\", pagoDoble)\n",
        "  pagoTriple=extrasTriples * sueldoH*3\n",
        "  print(\"pago de horas extra triples:\", pagoTriple)\n",
        "  print(\"Incentivo por trabajar más de 60 horas:$ $2000\")\n",
        "  pagoFinal= pago+pagoDoble+pagoTriple+2000\n",
        "  print(\"El sueldo Final de : \" ,nombre , \"Es $\", pagoFinal)\n"
      ],
      "execution_count": 26,
      "outputs": [
        {
          "output_type": "stream",
          "text": [
            "Ingrese el nombre del trabajador\n",
            "Javier\n",
            "Cuantas horas trabajo esta semana Javier :\n",
            "61\n",
            "Cuánto se paga por hora\n",
            "200\n",
            "Horas extra dobles 10\n",
            "horas extra triples 10\n",
            "Sueldo Base:$ 8000\n",
            "Pago de horas extra Dobles: 4000\n",
            "pago de horas extra triples: 6000\n",
            "Incentivo por trabajar más de 60 horas:$ $2000\n",
            "El sueldo Final de :  Javier Es $ 20000\n"
          ],
          "name": "stdout"
        }
      ]
    },
    {
      "cell_type": "code",
      "metadata": {
        "colab": {
          "base_uri": "https://localhost:8080/"
        },
        "id": "oxyjFHXrok3b",
        "outputId": "63fdf94c-0ca2-494a-f0e0-56249de8500c"
      },
      "source": [
        "# Estructura FOR\n",
        "# Ejemplo 1\n",
        "for estaciones_año in [\"primavera\", \"verano\", \"otoño\", \"invierno\"]:\n",
        "   print(estaciones_año)\n",
        "\n"
      ],
      "execution_count": 18,
      "outputs": [
        {
          "output_type": "stream",
          "text": [
            "primavera\n",
            "verano\n",
            "otoño\n",
            "invierno\n"
          ],
          "name": "stdout"
        }
      ]
    }
  ]
}