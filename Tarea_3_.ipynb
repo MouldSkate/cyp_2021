{
  "nbformat": 4,
  "nbformat_minor": 0,
  "metadata": {
    "colab": {
      "name": "Tarea 3.",
      "provenance": [],
      "authorship_tag": "ABX9TyPVmPWAYMr4q2HWv7xXD5Ro",
      "include_colab_link": true
    },
    "kernelspec": {
      "name": "python3",
      "display_name": "Python 3"
    }
  },
  "cells": [
    {
      "cell_type": "markdown",
      "metadata": {
        "id": "view-in-github",
        "colab_type": "text"
      },
      "source": [
        "<a href=\"https://colab.research.google.com/github/MouldSkate/cyp_2021/blob/main/Tarea_3_.ipynb\" target=\"_parent\"><img src=\"https://colab.research.google.com/assets/colab-badge.svg\" alt=\"Open In Colab\"/></a>"
      ]
    },
    {
      "cell_type": "code",
      "metadata": {
        "colab": {
          "base_uri": "https://localhost:8080/"
        },
        "id": "U8JYmkmXV8po",
        "outputId": "16257bcb-9113-4447-bca0-ab1e68b7fc7d"
      },
      "source": [
        "# Problema 1.1\n",
        "PREPRO = 0\n",
        "PAGO = 0\n",
        "DEVO = 0\n",
        "\n",
        "PREPRO = float(input(\"Precio del producto: \"))\n",
        "PAGO = float(input(\"Se recibe: \"))\n",
        "DEVO = PAGO - PREPRO\n",
        "\n",
        "print(f\"Su cambio será de: {DEVO}\")"
      ],
      "execution_count": 9,
      "outputs": [
        {
          "output_type": "stream",
          "text": [
            "Precio del producto: 49.20\n",
            "Se recibe: 100\n",
            "Su cambio será de: 50.8\n"
          ],
          "name": "stdout"
        }
      ]
    },
    {
      "cell_type": "code",
      "metadata": {
        "colab": {
          "base_uri": "https://localhost:8080/"
        },
        "id": "STizMik6ihEb",
        "outputId": "79584edb-ac45-4fc5-bc44-0ca9db3f170d"
      },
      "source": [
        "# Problema 1.2\n",
        "BASE = 0 \n",
        "ALTURA = 0\n",
        "AREA = 0\n",
        "\n",
        "BASE =  float(input(\"Introduce la base: \"))\n",
        "ALTURA = float(input(\"Introduce la altura: \"))\n",
        "AREA = (BASE * ALTURA) / 2\n",
        "\n",
        "print(f\"El área del triangulo es: {AREA}\")"
      ],
      "execution_count": 16,
      "outputs": [
        {
          "output_type": "stream",
          "text": [
            "Introduce la base: 11.60\n",
            "Introduce la altura: 7.40\n",
            "El área del triangulo es: 42.92\n"
          ],
          "name": "stdout"
        }
      ]
    },
    {
      "cell_type": "code",
      "metadata": {
        "colab": {
          "base_uri": "https://localhost:8080/"
        },
        "id": "ctWGt4mHklGl",
        "outputId": "b267df6f-e548-46c5-9e66-51961e1029f9"
      },
      "source": [
        "# Problema 1.3\n",
        "NOM = 0\n",
        "PES = 0\n",
        "LON = 0\n",
        "PESKIL = 0\n",
        "LONMET = 0\n",
        "\n",
        "NOM = input(\"Introduce el nombre del dinosaurio: \")\n",
        "PES = float(input(\"Introduce su peso en toneladas: \")) # El prblema dice que libras pero lo convierte en toneladas en la tabla\n",
        "LON = float(input(\"Introduce su altura en pies: \"))\n",
        "PESKIL = PES * (1000)\n",
        "LONMET = LON * (0.3047)\n",
        "\n",
        "print(NOM)\n",
        "print(f\"Su peso en kilogramos es: {PESKIL}\")\n",
        "print(f\"Su altura en metros es: {LONMET}\")"
      ],
      "execution_count": 18,
      "outputs": [
        {
          "output_type": "stream",
          "text": [
            "Introduce el nombre del dinosaurio: PLATEOSAURUS\n",
            "Introduce su peso en toneladas: 5\n",
            "Introduce su altura en pies: 30\n",
            "PLATEOSAURUS\n",
            "Su peso en kilogramos es: 5000.0\n",
            "Su altura en metros es: 9.141\n"
          ],
          "name": "stdout"
        }
      ]
    },
    {
      "cell_type": "code",
      "metadata": {
        "colab": {
          "base_uri": "https://localhost:8080/"
        },
        "id": "N6KaGx-w4m_0",
        "outputId": "193dcd7e-22c5-42af-ad5b-5ee364e5e2c1"
      },
      "source": [
        "# Problema 1.4\n",
        "GAL = 0\n",
        "LIT = 0\n",
        "TOTAL = 0\n",
        "\n",
        "GAL = float(input(\"Galones que se surtieron: \"))\n",
        "LIT = GAL * (3.785)\n",
        "TOTAL = LIT * (8.2)\n",
        "\n",
        "print(f\"El total a pagar es de: {TOTAL}\")"
      ],
      "execution_count": 26,
      "outputs": [
        {
          "output_type": "stream",
          "text": [
            "Galones que se surtieron: 19.90\n",
            "El total a pagar es de: 617.6363\n"
          ],
          "name": "stdout"
        }
      ]
    },
    {
      "cell_type": "code",
      "metadata": {
        "colab": {
          "base_uri": "https://localhost:8080/"
        },
        "id": "OiO0izSI6uMP",
        "outputId": "22164f77-f991-4fd2-cad7-a9eb8b44d922"
      },
      "source": [
        "# Problema 1.5\n",
        "RADIO = 0\n",
        "ALTU = 0\n",
        "VOL = 0\n",
        "AREA = 0\n",
        "\n",
        "RADIO = float(input(\"Introduzca el radio: \"))\n",
        "ALTU = float(input(\"INtroduzca la altura: \"))\n",
        "VOL = (3.141592) * (RADIO ** 2)  * ALTU\n",
        "AREA = 2 * (3.141592) * RADIO * ALTU\n",
        "\n",
        "print(f\"Su volumen es: {VOL}\")\n",
        "print(f\"Su área es: {AREA}\")"
      ],
      "execution_count": 34,
      "outputs": [
        {
          "output_type": "stream",
          "text": [
            "Introduzca el radio: 85.9\n",
            "INtroduzca la altura: 237.2\n",
            "Su volumen es: 5498583.122421345\n",
            "Su área es: 128022.88992832\n"
          ],
          "name": "stdout"
        }
      ]
    },
    {
      "cell_type": "code",
      "metadata": {
        "colab": {
          "base_uri": "https://localhost:8080/"
        },
        "id": "VnV1AT3dBI2i",
        "outputId": "a3d84bcf-4256-4809-f4ac-ced04a637216"
      },
      "source": [
        "# Problema 1.6\n",
        "DIAS = 0\n",
        "SEG = 0\n",
        "\n",
        "DIAS = int(input(\"Introduzca los días: \"))\n",
        "SEG = DIAS * (86400)\n",
        "\n",
        "print(f\"Son {SEG} segundos\")"
      ],
      "execution_count": 39,
      "outputs": [
        {
          "output_type": "stream",
          "text": [
            "Introduzca los días: 3\n",
            "Son 259200 segundos\n"
          ],
          "name": "stdout"
        }
      ]
    }
  ]
}