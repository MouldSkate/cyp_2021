{
  "nbformat": 4,
  "nbformat_minor": 0,
  "metadata": {
    "colab": {
      "name": "Tarea 5",
      "provenance": [],
      "collapsed_sections": [],
      "authorship_tag": "ABX9TyP8nALrd0CBvkY/5+P/2UPF",
      "include_colab_link": true
    },
    "kernelspec": {
      "name": "python3",
      "display_name": "Python 3"
    }
  },
  "cells": [
    {
      "cell_type": "markdown",
      "metadata": {
        "id": "view-in-github",
        "colab_type": "text"
      },
      "source": [
        "<a href=\"https://colab.research.google.com/github/MouldSkate/cyp_2021/blob/main/Tarea_5.ipynb\" target=\"_parent\"><img src=\"https://colab.research.google.com/assets/colab-badge.svg\" alt=\"Open In Colab\"/></a>"
      ]
    },
    {
      "cell_type": "code",
      "metadata": {
        "id": "ixJ9geoy26ry",
        "colab": {
          "base_uri": "https://localhost:8080/"
        },
        "outputId": "61480105-297e-49df-f750-b8450918c5f4"
      },
      "source": [
        " # Ejercicio 3.1\n",
        "NOMINA = 0\n",
        "SUE = 0\n",
        "SUE = [0,1,2,3,5,6,7,8,9,10]\n",
        "for i in SUE:\n",
        "  if (i <= 10):\n",
        "    SUE = float(input(\"Introduce el sueldo del trabajador: \"))\n",
        "    NOMINA = NOMINA + SUE\n",
        "    i = i + 1\n",
        "print(f\"La Nomina es de {NOMINA}\")"
      ],
      "execution_count": 33,
      "outputs": [
        {
          "output_type": "stream",
          "text": [
            "Introduce el sueldo del trabajador: 1500\n",
            "Introduce el sueldo del trabajador: 890\n",
            "Introduce el sueldo del trabajador: 700\n",
            "Introduce el sueldo del trabajador: 950\n",
            "Introduce el sueldo del trabajador: 2300\n",
            "Introduce el sueldo del trabajador: 1650\n",
            "Introduce el sueldo del trabajador: 1800\n",
            "Introduce el sueldo del trabajador: 1400\n",
            "Introduce el sueldo del trabajador: 760\n",
            "Introduce el sueldo del trabajador: 900\n",
            "La Nomina es de 12850.0\n"
          ],
          "name": "stdout"
        }
      ]
    },
    {
      "cell_type": "code",
      "metadata": {
        "id": "Ft_jR6NwDiCn",
        "colab": {
          "base_uri": "https://localhost:8080/"
        },
        "outputId": "d4f0a74a-9408-4902-8420-e4f821adc571"
      },
      "source": [
        "# Ejercicio 3.4\n",
        "SUMGAS = 0\n",
        "GASTO = float(input(\"Introduce el gasto: \"))\n",
        "while (GASTO != -1):\n",
        "  SUMGAS = SUMGAS + GASTO\n",
        "  GASTO = float(input(\"Introduce el gasto: \"))\n",
        "print(f\"Los gastos totales son: {SUMGAS}\")"
      ],
      "execution_count": 43,
      "outputs": [
        {
          "output_type": "stream",
          "text": [
            "Introduce el gasto: 2528\n",
            "Introduce el gasto: 3500\n",
            "Introduce el gasto: 1600\n",
            "Introduce el gasto: 1850\n",
            "Introduce el gasto: 150\n",
            "Introduce el gasto: -1\n",
            "Los gastos totales son: 9628.0\n"
          ],
          "name": "stdout"
        }
      ]
    }
  ]
}